{
 "cells": [
  {
   "cell_type": "markdown",
   "metadata": {
    "toc": true
   },
   "source": [
    "<h1>Table of Contents<span class=\"tocSkip\"></span></h1>\n",
    "<div class=\"toc\"><ul class=\"toc-item\"><li><span><a href=\"#Introduction-To-Probabilistic-Graphical-Models----Practical-Session-1\" data-toc-modified-id=\"Introduction-To-Probabilistic-Graphical-Models----Practical-Session-1-1\"><span class=\"toc-item-num\">1&nbsp;&nbsp;</span>Introduction To Probabilistic Graphical Models -- Practical Session 1</a></span><ul class=\"toc-item\"><li><span><a href=\"#Question-0\" data-toc-modified-id=\"Question-0-1.1\"><span class=\"toc-item-num\">1.1&nbsp;&nbsp;</span>Question 0</a></span></li><li><span><a href=\"#Question-1\" data-toc-modified-id=\"Question-1-1.2\"><span class=\"toc-item-num\">1.2&nbsp;&nbsp;</span>Question 1</a></span><ul class=\"toc-item\"><li><span><a href=\"#1-Choose-the-appropriate-random-variables,-define-their-domains,-write-down-the-generative-model-and-draw-the-associated-directed-graphical-model.\" data-toc-modified-id=\"1-Choose-the-appropriate-random-variables,-define-their-domains,-write-down-the-generative-model-and-draw-the-associated-directed-graphical-model.-1.2.1\"><span class=\"toc-item-num\">1.2.1&nbsp;&nbsp;</span>1 Choose the appropriate random variables, define their domains, write down the generative model and draw the associated directed graphical model.</a></span></li><li><span><a href=\"#3\" data-toc-modified-id=\"3-1.2.2\"><span class=\"toc-item-num\">1.2.2&nbsp;&nbsp;</span>3</a></span></li><li><span><a href=\"#4-Implement-a-program-that-simulates-this-scenario;-i.e.,-generates-realizations-from-the-movements-of-the-robot-and-the-associated-sensor-readings.-Simulate-a-scenario-for-$k-=-1...100$-with-$N-=-50$,-$\\epsilon-=-0,3$,$-w-=-0.8$.\" data-toc-modified-id=\"4-Implement-a-program-that-simulates-this-scenario;-i.e.,-generates-realizations-from-the-movements-of-the-robot-and-the-associated-sensor-readings.-Simulate-a-scenario-for-$k-=-1...100$-with-$N-=-50$,-$\\epsilon-=-0,3$,$-w-=-0.8$.-1.2.3\"><span class=\"toc-item-num\">1.2.3&nbsp;&nbsp;</span>4 Implement a program that simulates this scenario; i.e., generates realizations from the movements of the robot and the associated sensor readings. Simulate a scenario for $k = 1...100$ with $N = 50$, $\\epsilon = 0,3$,$ w = 0.8$.</a></span></li></ul></li></ul></li></ul></div>"
   ]
  },
  {
   "cell_type": "markdown",
   "metadata": {
    "ExecuteTime": {
     "end_time": "2018-10-10T12:45:15.793295Z",
     "start_time": "2018-10-10T12:45:15.789301Z"
    }
   },
   "source": [
    "# Introduction To Probabilistic Graphical Models -- Practical Session 1"
   ]
  },
  {
   "cell_type": "code",
   "execution_count": 34,
   "metadata": {
    "ExecuteTime": {
     "end_time": "2018-10-10T15:09:39.641592Z",
     "start_time": "2018-10-10T15:09:39.637603Z"
    }
   },
   "outputs": [],
   "source": [
    "import numpy as np\n",
    "from scipy.linalg import circulant"
   ]
  },
  {
   "cell_type": "markdown",
   "metadata": {
    "ExecuteTime": {
     "end_time": "2018-10-10T12:45:24.464073Z",
     "start_time": "2018-10-10T12:45:24.460085Z"
    }
   },
   "source": [
    "## Question 0"
   ]
  },
  {
   "cell_type": "code",
   "execution_count": 26,
   "metadata": {
    "ExecuteTime": {
     "end_time": "2018-10-10T12:55:58.656815Z",
     "start_time": "2018-10-10T12:55:58.652826Z"
    }
   },
   "outputs": [],
   "source": [
    "def derive(X):\n",
    "    l_ = np.max(X)\n",
    "    return l_ + np.log(np.exp((X - l_)).sum())"
   ]
  },
  {
   "cell_type": "code",
   "execution_count": 25,
   "metadata": {
    "ExecuteTime": {
     "end_time": "2018-10-10T12:55:42.688551Z",
     "start_time": "2018-10-10T12:55:42.682541Z"
    }
   },
   "outputs": [
    {
     "data": {
      "text/plain": [
       "-1233.6867383124818"
      ]
     },
     "execution_count": 25,
     "metadata": {},
     "output_type": "execute_result"
    }
   ],
   "source": [
    "data = np.array([-1234.,-1235.], dtype=np.float64)\n",
    "derive(data)"
   ]
  },
  {
   "cell_type": "markdown",
   "metadata": {},
   "source": [
    "## Question 1"
   ]
  },
  {
   "cell_type": "markdown",
   "metadata": {},
   "source": [
    "### 1 Choose the appropriate random variables, define their domains, write down the generative model and draw the associated directed graphical model.\n",
    "D'après le sujet, chaque possible position est un état de robot.On definie la $y_t$, la variable d'état au temps t.On peut donc definie la problabilité de transition comme ci-dessous:\n",
    "\n",
    "$P(y_t = j | y_{t-1} = i) =  a_{i,j} = \n",
    "\\begin{cases}\n",
    "\\epsilon  &  si\\: j=i \\\\\n",
    "1-\\sigma  &  si\\: j=i+1 \\\\\n",
    "0 & autre cas\\\\\n",
    "\\end{cases}\n",
    "$\n",
    "\n",
    "La matrix des probabilités de transitions \n",
    "\n",
    "$A = [a_{i,j}]$\n",
    "\n",
    "Comme la distribution du positions initial est uniforme. Le vecteur de probabilités initiales est donc sous forme ci-dessous\n",
    "\n",
    "$\\Pi ={\\pi_i} $ où $i \\in [1,N] $ avec $\\pi_i = \\frac{1}{N}$\n",
    "\n",
    "La probabilités d'observation des positions est donc \n",
    "$ b_{ij} = p(y_{1:k} = j |x_{i:k} = i) = \n",
    "\\begin{cases}\n",
    "\\frac{1}{N} + w(1-\\frac{1}{N})  &  j = i \\\\\n",
    "(1-w)(1-\\frac{1}{N})  &  j\\neq i \\\\\n",
    "\\end{cases}\n",
    "$\n"
   ]
  },
  {
   "cell_type": "markdown",
   "metadata": {},
   "source": [
    "$\\begin{pmatrix}\n",
    "1 & 1& 11\\\\\n",
    "1 & 1& 11\\\\\n",
    "\\vdots  \\\\\n",
    "1 & 1&  \\dots & x\\\\\n",
    "\\end{pmatrix}\n",
    "$"
   ]
  },
  {
   "cell_type": "markdown",
   "metadata": {},
   "source": [
    "###  3 "
   ]
  },
  {
   "cell_type": "markdown",
   "metadata": {
    "ExecuteTime": {
     "end_time": "2018-10-10T14:44:11.306969Z",
     "start_time": "2018-10-10T14:44:11.301977Z"
    }
   },
   "source": [
    "### 4 Implement a program that simulates this scenario; i.e., generates realizations from the movements of the robot and the associated sensor readings. Simulate a scenario for $k = 1...100$ with $N = 50$, $\\epsilon = 0,3$,$ w = 0.8$."
   ]
  },
  {
   "cell_type": "code",
   "execution_count": 44,
   "metadata": {
    "ExecuteTime": {
     "end_time": "2018-10-10T15:15:08.941288Z",
     "start_time": "2018-10-10T15:15:08.934283Z"
    }
   },
   "outputs": [
    {
     "data": {
      "text/plain": [
       "array([[0., 0., 0., ..., 0., 0., 1.],\n",
       "       [1., 0., 0., ..., 0., 0., 0.],\n",
       "       [0., 1., 0., ..., 0., 0., 0.],\n",
       "       ...,\n",
       "       [0., 0., 0., ..., 0., 0., 0.],\n",
       "       [0., 0., 0., ..., 1., 0., 0.],\n",
       "       [0., 0., 0., ..., 0., 1., 0.]])"
      ]
     },
     "execution_count": 44,
     "metadata": {},
     "output_type": "execute_result"
    }
   ],
   "source": [
    "a = np.identity(50)\n",
    "np.roll(a,-1, axis=1)"
   ]
  },
  {
   "cell_type": "code",
   "execution_count": 101,
   "metadata": {
    "ExecuteTime": {
     "end_time": "2018-10-10T15:52:35.052678Z",
     "start_time": "2018-10-10T15:52:35.026747Z"
    }
   },
   "outputs": [
    {
     "name": "stdout",
     "output_type": "stream",
     "text": [
      "36\n",
      "[36, 12]\n",
      "[36, 2]\n",
      "[37, 2]\n",
      "[37, 32]\n",
      "[38, 19]\n",
      "[39, 26]\n",
      "[40, 43]\n",
      "[41, 34]\n",
      "[42, 6]\n",
      "[43, 26]\n",
      "[44, 33]\n",
      "[45, 12]\n",
      "[45, 42]\n",
      "[46, 26]\n",
      "[47, 34]\n",
      "[48, 28]\n",
      "[48, 22]\n",
      "[48, 35]\n",
      "[49, 7]\n",
      "[49, 39]\n",
      "[50, 6]\n",
      "[1, 8]\n",
      "[1, 11]\n",
      "[2, 46]\n",
      "[3, 8]\n",
      "[4, 2]\n",
      "[4, 31]\n",
      "[4, 41]\n",
      "[5, 4]\n",
      "[6, 26]\n",
      "[7, 15]\n",
      "[7, 50]\n",
      "[7, 16]\n",
      "[8, 28]\n",
      "[8, 44]\n",
      "[8, 33]\n",
      "[9, 5]\n",
      "[10, 6]\n",
      "[10, 48]\n",
      "[11, 37]\n",
      "[12, 45]\n",
      "[13, 16]\n",
      "[13, 18]\n",
      "[14, 21]\n",
      "[15, 30]\n",
      "[16, 42]\n",
      "[17, 19]\n",
      "[18, 33]\n",
      "[18, 26]\n",
      "[19, 11]\n",
      "[19, 27]\n",
      "[20, 9]\n",
      "[21, 23]\n",
      "[22, 17]\n",
      "[23, 30]\n",
      "[24, 49]\n",
      "[25, 15]\n",
      "[26, 1]\n",
      "[27, 46]\n",
      "[27, 7]\n",
      "[27, 15]\n",
      "[28, 5]\n",
      "[29, 19]\n",
      "[30, 42]\n",
      "[31, 50]\n",
      "[32, 11]\n",
      "[33, 9]\n",
      "[33, 22]\n",
      "[34, 27]\n",
      "[35, 9]\n",
      "[36, 33]\n",
      "[37, 8]\n",
      "[38, 7]\n",
      "[39, 17]\n",
      "[40, 27]\n",
      "[40, 4]\n",
      "[41, 8]\n",
      "[42, 40]\n",
      "[42, 43]\n",
      "[43, 42]\n",
      "[43, 8]\n",
      "[44, 2]\n",
      "[45, 45]\n",
      "[45, 25]\n",
      "[46, 37]\n",
      "[47, 39]\n",
      "[48, 34]\n",
      "[48, 40]\n",
      "[49, 36]\n",
      "[49, 12]\n",
      "[50, 4]\n",
      "[50, 41]\n",
      "[1, 16]\n",
      "[1, 3]\n",
      "[2, 14]\n",
      "[3, 13]\n",
      "[4, 15]\n",
      "[5, 1]\n",
      "[6, 11]\n",
      "[6, 43]\n"
     ]
    },
    {
     "data": {
      "text/plain": [
       "[array([36, 36, 37, 37, 38, 39, 40, 41, 42, 43, 44, 45, 45, 46, 47, 48, 48,\n",
       "        48, 49, 49, 50,  1,  1,  2,  3,  4,  4,  4,  5,  6,  7,  7,  7,  8,\n",
       "         8,  8,  9, 10, 10, 11, 12, 13, 13, 14, 15, 16, 17, 18, 18, 19, 19,\n",
       "        20, 21, 22, 23, 24, 25, 26, 27, 27, 27, 28, 29, 30, 31, 32, 33, 33,\n",
       "        34, 35, 36, 37, 38, 39, 40, 40, 41, 42, 42, 43, 43, 44, 45, 45, 46,\n",
       "        47, 48, 48, 49, 49, 50, 50,  1,  1,  2,  3,  4,  5,  6,  6],\n",
       "       dtype=int8),\n",
       " array([43, 36,  6, 37, 38, 39, 40,  3, 42, 43, 44, 14, 45, 46, 21, 48, 11,\n",
       "        48, 49, 49, 48,  1,  1, 32,  3,  4,  4, 29,  5,  6, 12, 31,  7,  8,\n",
       "         8,  8,  9, 10, 46,  7, 12, 13, 13, 14, 15, 16, 17, 18, 18, 19, 18,\n",
       "        20, 21, 22, 23, 24, 25, 26, 27, 27, 27, 28, 22, 30, 31, 32, 33, 33,\n",
       "        35, 35, 36, 37, 21, 39, 40, 40, 41, 42,  1, 43, 43, 44, 45, 45, 46,\n",
       "        47, 48, 48, 49, 38, 50, 47,  1, 31,  2,  3,  4,  5,  6,  9],\n",
       "       dtype=int8)]"
      ]
     },
     "execution_count": 101,
     "metadata": {},
     "output_type": "execute_result"
    }
   ],
   "source": [
    "def gen_status(i, epsilon):\n",
    "    return np.random.choice([k,k+i,0],p=[epsilon, 1.0-epsilon, 0.0])\n",
    "\n",
    "    \n",
    "def seq_gene(len_seq, N, epsilon, w):\n",
    "    # Gene value init:\n",
    "    x = np.zeros(len_seq, dtype=np.int8)\n",
    "    y = np.zeros(len_seq, dtype=np.int8)\n",
    "    x[0] = np.random.randint(1,N)\n",
    "    \n",
    "    for k in range(1,100):\n",
    "        choice = [x[k-1], x[k-1]+1 if x[k-1]<50 else 1 ]\n",
    "        x[k] = np.random.choice(choice,p=[epsilon, 1.0-epsilon])\n",
    "    \n",
    "    pos = np.zeros(N+1)\n",
    "    pos[1:] = np.arange(N) \n",
    "    \n",
    "    for k in range(0,100):\n",
    "            y[k] =  np.random.choice( [x[k], np.random.randint(1,N+1)],p=[w, 1.0-w])\n",
    "            print([x[k], np.random.randint(1,N+1)])\n",
    "    return [x,y]\n",
    "    \n",
    "    \n",
    "    \n",
    "seq_gene(100,50,0.3,0.8)    "
   ]
  },
  {
   "cell_type": "code",
   "execution_count": 76,
   "metadata": {
    "ExecuteTime": {
     "end_time": "2018-10-10T15:42:21.066100Z",
     "start_time": "2018-10-10T15:42:21.061112Z"
    }
   },
   "outputs": [
    {
     "data": {
      "text/plain": [
       "[2, 35]"
      ]
     },
     "execution_count": 76,
     "metadata": {},
     "output_type": "execute_result"
    }
   ],
   "source": [
    "[2, np.random.randint(1,50)]"
   ]
  },
  {
   "cell_type": "code",
   "execution_count": 88,
   "metadata": {
    "ExecuteTime": {
     "end_time": "2018-10-10T15:48:27.035633Z",
     "start_time": "2018-10-10T15:48:27.030646Z"
    }
   },
   "outputs": [
    {
     "ename": "SyntaxError",
     "evalue": "invalid syntax (<ipython-input-88-579bf150f2a1>, line 2)",
     "output_type": "error",
     "traceback": [
      "\u001b[1;36m  File \u001b[1;32m\"<ipython-input-88-579bf150f2a1>\"\u001b[1;36m, line \u001b[1;32m2\u001b[0m\n\u001b[1;33m    50?20:330\u001b[0m\n\u001b[1;37m      ^\u001b[0m\n\u001b[1;31mSyntaxError\u001b[0m\u001b[1;31m:\u001b[0m invalid syntax\n"
     ]
    }
   ],
   "source": [
    "\n",
    "50?20:330"
   ]
  },
  {
   "cell_type": "code",
   "execution_count": 95,
   "metadata": {
    "ExecuteTime": {
     "end_time": "2018-10-10T15:50:59.464360Z",
     "start_time": "2018-10-10T15:50:59.459367Z"
    }
   },
   "outputs": [
    {
     "data": {
      "text/plain": [
       "[5, 23]"
      ]
     },
     "execution_count": 95,
     "metadata": {},
     "output_type": "execute_result"
    }
   ],
   "source": [
    "[5,23 if 2<50 else 1] "
   ]
  },
  {
   "cell_type": "code",
   "execution_count": null,
   "metadata": {},
   "outputs": [],
   "source": []
  }
 ],
 "metadata": {
  "kernelspec": {
   "display_name": "Python 3",
   "language": "python",
   "name": "python3"
  },
  "language_info": {
   "codemirror_mode": {
    "name": "ipython",
    "version": 3
   },
   "file_extension": ".py",
   "mimetype": "text/x-python",
   "name": "python",
   "nbconvert_exporter": "python",
   "pygments_lexer": "ipython3",
   "version": "3.6.6"
  },
  "latex_envs": {
   "LaTeX_envs_menu_present": true,
   "autoclose": false,
   "autocomplete": true,
   "bibliofile": "biblio.bib",
   "cite_by": "apalike",
   "current_citInitial": 1,
   "eqLabelWithNumbers": true,
   "eqNumInitial": 1,
   "hotkeys": {
    "equation": "Ctrl-E",
    "itemize": "Ctrl-I"
   },
   "labels_anchors": false,
   "latex_user_defs": false,
   "report_style_numbering": false,
   "user_envs_cfg": false
  },
  "toc": {
   "base_numbering": 1,
   "nav_menu": {},
   "number_sections": true,
   "sideBar": true,
   "skip_h1_title": false,
   "title_cell": "Table of Contents",
   "title_sidebar": "Contents",
   "toc_cell": true,
   "toc_position": {},
   "toc_section_display": true,
   "toc_window_display": false
  },
  "varInspector": {
   "cols": {
    "lenName": 16,
    "lenType": 16,
    "lenVar": 40
   },
   "kernels_config": {
    "python": {
     "delete_cmd_postfix": "",
     "delete_cmd_prefix": "del ",
     "library": "var_list.py",
     "varRefreshCmd": "print(var_dic_list())"
    },
    "r": {
     "delete_cmd_postfix": ") ",
     "delete_cmd_prefix": "rm(",
     "library": "var_list.r",
     "varRefreshCmd": "cat(var_dic_list()) "
    }
   },
   "types_to_exclude": [
    "module",
    "function",
    "builtin_function_or_method",
    "instance",
    "_Feature"
   ],
   "window_display": false
  }
 },
 "nbformat": 4,
 "nbformat_minor": 2
}

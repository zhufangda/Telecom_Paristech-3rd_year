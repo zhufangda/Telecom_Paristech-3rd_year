{
 "cells": [
  {
   "cell_type": "markdown",
   "metadata": {
    "toc": true
   },
   "source": [
    "<h1>Table of Contents<span class=\"tocSkip\"></span></h1>\n",
    "<div class=\"toc\"><ul class=\"toc-item\"><li><span><a href=\"#LAB:-Random-Projections-:-SOLUTIONS\" data-toc-modified-id=\"LAB:-Random-Projections-:-SOLUTIONS-1\"><span class=\"toc-item-num\">1&nbsp;&nbsp;</span>LAB: Random Projections : SOLUTIONS</a></span><ul class=\"toc-item\"><li><ul class=\"toc-item\"><li><ul class=\"toc-item\"><li><span><a href=\"#Authors:-R.-M.-Gower\" data-toc-modified-id=\"Authors:-R.-M.-Gower-1.0.0.1\"><span class=\"toc-item-num\">1.0.0.1&nbsp;&nbsp;</span>Authors: R. M. Gower</a></span></li></ul></li></ul></li><li><span><a href=\"#Aim\" data-toc-modified-id=\"Aim-1.1\"><span class=\"toc-item-num\">1.1&nbsp;&nbsp;</span>Aim</a></span></li><li><span><a href=\"#VERY-IMPORTANT\" data-toc-modified-id=\"VERY-IMPORTANT-1.2\"><span class=\"toc-item-num\">1.2&nbsp;&nbsp;</span>VERY IMPORTANT</a></span></li></ul></li><li><span><a href=\"#Gentle-reminder:-no-evaluation-if-you-don't-respect-this-EXACTLY\" data-toc-modified-id=\"Gentle-reminder:-no-evaluation-if-you-don't-respect-this-EXACTLY-2\"><span class=\"toc-item-num\">2&nbsp;&nbsp;</span>Gentle reminder: no evaluation if you don't respect this EXACTLY</a></span><ul class=\"toc-item\"><li><ul class=\"toc-item\"><li><span><a href=\"#How-to-construct-the-name-of-your-file\" data-toc-modified-id=\"How-to-construct-the-name-of-your-file-2.0.1\"><span class=\"toc-item-num\">2.0.1&nbsp;&nbsp;</span>How to construct the name of your file</a></span></li></ul></li><li><span><a href=\"#EXERCISE-1:\" data-toc-modified-id=\"EXERCISE-1:-2.1\"><span class=\"toc-item-num\">2.1&nbsp;&nbsp;</span>EXERCISE 1:</a></span><ul class=\"toc-item\"><li><span><a href=\"#Corollary-of-Range-Space-Preserving-Theorem\" data-toc-modified-id=\"Corollary-of-Range-Space-Preserving-Theorem-2.1.1\"><span class=\"toc-item-num\">2.1.1&nbsp;&nbsp;</span>Corollary of Range Space Preserving Theorem</a></span></li><li><span><a href=\"#End-Corollary\" data-toc-modified-id=\"End-Corollary-2.1.2\"><span class=\"toc-item-num\">2.1.2&nbsp;&nbsp;</span>End Corollary</a></span></li></ul></li><li><span><a href=\"#Exercise-2:\" data-toc-modified-id=\"Exercise-2:-2.2\"><span class=\"toc-item-num\">2.2&nbsp;&nbsp;</span>Exercise 2:</a></span></li><li><span><a href=\"#Load-and-test-easier-data-set-anthracyclineTaxaneChemotherapy\" data-toc-modified-id=\"Load-and-test-easier-data-set-anthracyclineTaxaneChemotherapy-2.3\"><span class=\"toc-item-num\">2.3&nbsp;&nbsp;</span>Load and test easier data set <em>anthracyclineTaxaneChemotherapy</em></a></span><ul class=\"toc-item\"><li><span><a href=\"#if-fetch_openml-fails\" data-toc-modified-id=\"if-fetch_openml-fails-2.3.1\"><span class=\"toc-item-num\">2.3.1&nbsp;&nbsp;</span>if fetch_openml fails</a></span></li></ul></li><li><span><a href=\"#Load-and-test-HARDER-data-set-sector.scale\" data-toc-modified-id=\"Load-and-test-HARDER-data-set-sector.scale-2.4\"><span class=\"toc-item-num\">2.4&nbsp;&nbsp;</span>Load and test HARDER data set <em>sector.scale</em></a></span></li><li><span><a href=\"#Bonus-question\" data-toc-modified-id=\"Bonus-question-2.5\"><span class=\"toc-item-num\">2.5&nbsp;&nbsp;</span>Bonus question</a></span></li></ul></li></ul></div>"
   ]
  },
  {
   "cell_type": "markdown",
   "metadata": {},
   "source": [
    "# LAB: Random Projections : SOLUTIONS"
   ]
  },
  {
   "cell_type": "markdown",
   "metadata": {},
   "source": [
    "\n",
    "#### Authors: R. M. Gower\n",
    "\n",
    "## Aim\n",
    "\n",
    "The aim of this material is to\n",
    "- to show that in practice dimension reduction can be used with no loss of accuracy on some problem\n",
    "- code efficient sparse random projections\n",
    "- apply sparse random projections together with knearestneighbors\n",
    "\n",
    "\n",
    "## VERY IMPORTANT\n",
    "\n",
    "- This work **must be done by pairs of students**.\n",
    "- **Each** student must send their jupyter notebook **before the 24th of october at 23:59** to **gowerrobert@gmail.com**\n",
    "- This means that **each student in the pair sends the same file**\n",
    "- The **name of the file must be** constructed as in the next cell\n",
    "\n",
    "# Gentle reminder: no evaluation if you don't respect this EXACTLY\n",
    "\n",
    "### How to construct the name of your file"
   ]
  },
  {
   "cell_type": "code",
   "execution_count": 1,
   "metadata": {
    "ExecuteTime": {
     "end_time": "2018-10-22T08:54:55.045257Z",
     "start_time": "2018-10-22T08:54:55.039274Z"
    }
   },
   "outputs": [
    {
     "name": "stdout",
     "output_type": "stream",
     "text": [
      "lab1_zhu_fangda_and_wang_yuqing.ipynb\n"
     ]
    }
   ],
   "source": [
    "# Change here using YOUR first and last names\n",
    "fn1 = \"Fangda\"\n",
    "ln1 = \"ZHU\"\n",
    "fn2 = \"Yuqing\"\n",
    "ln2 = \"WANG\"\n",
    "\n",
    "filename = \"_\".join(map(lambda s: s.strip().lower(), \n",
    "                        [\"lab1\", ln1, fn1, \"and\", ln2, fn2])) + \".ipynb\"\n",
    "print(filename)"
   ]
  },
  {
   "cell_type": "code",
   "execution_count": 2,
   "metadata": {
    "ExecuteTime": {
     "end_time": "2018-10-22T08:54:55.212809Z",
     "start_time": "2018-10-22T08:54:55.209816Z"
    }
   },
   "outputs": [],
   "source": [
    "#Throughout the notebook you will find commented boxes like this one\n",
    "\n",
    "### TODO ###   \n",
    "# please implement blabla\n",
    "#############"
   ]
  },
  {
   "cell_type": "markdown",
   "metadata": {},
   "source": [
    "These boxes need to be replaced by code as explained in the boxes.\n",
    "Solutions will online tomorrow. Good luck!"
   ]
  },
  {
   "cell_type": "code",
   "execution_count": 3,
   "metadata": {
    "ExecuteTime": {
     "end_time": "2018-10-22T08:54:55.844118Z",
     "start_time": "2018-10-22T08:54:55.496052Z"
    }
   },
   "outputs": [],
   "source": [
    "%matplotlib inline\n",
    "try:\n",
    "    %load_ext memory_profiler\n",
    "except:\n",
    "    print(\"Please run !ip install memory_profiler \")"
   ]
  },
  {
   "cell_type": "code",
   "execution_count": 4,
   "metadata": {
    "ExecuteTime": {
     "end_time": "2018-10-22T08:54:55.975773Z",
     "start_time": "2018-10-22T08:54:55.881022Z"
    }
   },
   "outputs": [],
   "source": [
    "import numpy as np\n",
    "import unittest\n",
    "from scipy.linalg import norm\n",
    "import matplotlib.pyplot as plt\n",
    "import sys\n",
    "# import matplotlib.pylab as plt"
   ]
  },
  {
   "cell_type": "code",
   "execution_count": 5,
   "metadata": {
    "ExecuteTime": {
     "end_time": "2018-10-22T08:54:57.512668Z",
     "start_time": "2018-10-22T08:54:56.005688Z"
    }
   },
   "outputs": [],
   "source": [
    "from sklearn.datasets import load_svmlight_file\n",
    "from sklearn.model_selection import train_test_split\n",
    "from sklearn.linear_model import LogisticRegression    #Logistic Regression\n",
    "from sklearn.neighbors import KNeighborsClassifier \n",
    "\n",
    "def get_data(dataname):\n",
    "    data = load_svmlight_file(dataname)\n",
    "    return data[0], data[1]"
   ]
  },
  {
   "cell_type": "markdown",
   "metadata": {},
   "source": [
    "## EXERCISE 1: \n",
    "\n",
    "Use LogisticRegression classifier of Scikit-learn to experimentally confirm the following corollary proven in class and test random sparse projections\n",
    "\n",
    "### Corollary of Range Space Preserving Theorem  \n",
    "\n",
    "Let \n",
    "$$ X = [x_1, \\ldots, x_n]^\\top \\in \\mathbb{R}^{n\\times d},$$\n",
    "be our data matrix and let\n",
    "$$ X X^\\top = [\\hat{x}_1, \\ldots, \\hat{x}_n]^\\top \\in \\mathbb{R}^{n\\times n}. $$\n",
    "We can find a solution to the following training problem\n",
    "$$ w^* \\in \\min_{w \\in \\mathbb{R}^d}  \\frac{1}{n}\\sum_{i=1}^n \\ell_i(\\langle x_i,w \\rangle) \\hspace{3cm} (I)$$\n",
    "by instead solving \n",
    "$$ \\hat{w}^* \\in \\min_{w \\in \\mathbb{R}^n}  \\frac{1}{n}\\sum_{i=1}^n \\ell_i(\\langle \\hat{x}_i,w \\rangle) \\hspace{3cm} (II)$$\n",
    "and recover the solution via $ w^* = X^\\top \\hat{w}^*.$\n",
    "\n",
    "**NOTE:** The matrix $X$ is transposed with respect to the data matrix defined in class and in the lectures ! Be careful with dimnensions!\n",
    "### End Corollary\n",
    "\n",
    "1) Show that by setting the regularization parameter close to zero (C = 10^9) in LogisticRegression, the score obtained by training using $X$ and $X^\\top X$ is the same\n",
    "  \n",
    "2) Compute a solution $w^*_1$  by directly solving (I).  Compare this $w^*_1$ to the recovered solution $X^\\top \\hat{w}^*$. Are they the same? Justify based on Corollary.\n",
    "\n",
    "3) Using a random generated gaussian matrix $W \\in\\mathbb{R}^{d\\times r}$ , project the data matrix $X \\rightarrow XW$. Test for different values of r and\n",
    "apply logistic regression to the resulting projected matrix. Can you explain what you observe? "
   ]
  },
  {
   "cell_type": "code",
   "execution_count": 6,
   "metadata": {
    "ExecuteTime": {
     "end_time": "2018-10-22T08:54:57.690180Z",
     "start_time": "2018-10-22T08:54:57.560527Z"
    }
   },
   "outputs": [
    {
     "name": "stdout",
     "output_type": "stream",
     "text": [
      "41 data points and 2000 features\n"
     ]
    }
   ],
   "source": [
    "# download the colon-cancer data set from \n",
    "# https://www.csie.ntu.edu.tw/~cjlin/libsvmtools/datasets/binary/colon-cancer.bz2\n",
    "# Unpack and place in the same folder as this python notebook\n",
    "dataname = \"colon-cancer\"  \n",
    "X, y = get_data(dataname)\n",
    "X_train, X_test, y_train, y_test = train_test_split(X, y, test_size=0.33, random_state=42)\n",
    "n, d = X_train.shape\n",
    "print('{n} data points and {d} features'.format(n = n,d =d))"
   ]
  },
  {
   "cell_type": "code",
   "execution_count": 7,
   "metadata": {
    "ExecuteTime": {
     "end_time": "2018-10-22T08:54:57.764980Z",
     "start_time": "2018-10-22T08:54:57.731071Z"
    }
   },
   "outputs": [
    {
     "name": "stdout",
     "output_type": "stream",
     "text": [
      "Accuracy on the training set: 1.000\n",
      "Accuracy on the training set: 0.619\n"
     ]
    },
    {
     "name": "stderr",
     "output_type": "stream",
     "text": [
      "D:\\Users\\zhufa\\Anaconda3\\lib\\site-packages\\sklearn\\linear_model\\logistic.py:432: FutureWarning: Default solver will be changed to 'lbfgs' in 0.22. Specify a solver to silence this warning.\n",
      "  FutureWarning)\n"
     ]
    }
   ],
   "source": [
    "C0 = 10**9 # 0.0005 # inverse of the regularization parameter, i.e, C = 1/lambda\n",
    "log_reg = LogisticRegression(C = C0) # , multi_class = \"multinomial\"\n",
    "log_reg.fit(X_train, y_train)\n",
    "print('Accuracy on the training set: {:.3f}'.format(log_reg.score(X_train,y_train)))\n",
    "print('Accuracy on the training set: {:.3f}'.format(log_reg.score(X_test,y_test)))"
   ]
  },
  {
   "cell_type": "code",
   "execution_count": 8,
   "metadata": {
    "ExecuteTime": {
     "end_time": "2018-10-22T08:54:57.885657Z",
     "start_time": "2018-10-22T08:54:57.855739Z"
    }
   },
   "outputs": [
    {
     "name": "stdout",
     "output_type": "stream",
     "text": [
      "Accuracy on the training set: 1.000\n",
      "Accuracy on the training set: 0.619\n"
     ]
    },
    {
     "data": {
      "text/plain": [
       "1.9405387538089003"
      ]
     },
     "execution_count": 8,
     "metadata": {},
     "output_type": "execute_result"
    }
   ],
   "source": [
    "### TODO ###   \n",
    "# 2)  Compute a solution $w^*_1$  by directly solving (I).  \n",
    "# Compare this $w^*_1$ to the recovered solution $X^\\top \\hat{w}^*$.\n",
    "# Are they the same? Justify based on Corollary.\n",
    "X_train_ = X_train.dot(X_train.T)\n",
    "X_test_ = X_test.dot(X_train.T)\n",
    "log_reg_ = LogisticRegression(C = C0, solver='liblinear')\n",
    "log_reg_.fit(X_train_,y_train)\n",
    "print('Accuracy on the training set: {:.3f}'.format(log_reg_.score(X_train_,y_train)))\n",
    "print('Accuracy on the training set: {:.3f}'.format(log_reg_.score(X_test_,y_test)))\n",
    "w = log_reg.coef_\n",
    "w_hat = log_reg_.coef_*X_train\n",
    "np.sum(w - w_hat)\n",
    "#############"
   ]
  },
  {
   "cell_type": "markdown",
   "metadata": {},
   "source": [
    "The sum of the difference between $X$ and $X^\\top X$ is 1.94"
   ]
  },
  {
   "cell_type": "code",
   "execution_count": 9,
   "metadata": {
    "ExecuteTime": {
     "end_time": "2018-10-22T08:54:58.330466Z",
     "start_time": "2018-10-22T08:54:57.957466Z"
    }
   },
   "outputs": [
    {
     "name": "stdout",
     "output_type": "stream",
     "text": [
      "project dimension   41 gives: (train, test) =  (1.0000, 0.5714)\n",
      "project dimension   43 gives: (train, test) =  (1.0000, 0.5714)\n",
      "project dimension   45 gives: (train, test) =  (1.0000, 0.7143)\n",
      "project dimension   47 gives: (train, test) =  (1.0000, 0.6667)\n",
      "project dimension   49 gives: (train, test) =  (1.0000, 0.5714)\n",
      "project dimension   51 gives: (train, test) =  (1.0000, 0.6667)\n",
      "project dimension   53 gives: (train, test) =  (1.0000, 0.6667)\n",
      "project dimension   55 gives: (train, test) =  (1.0000, 0.6667)\n",
      "project dimension   57 gives: (train, test) =  (1.0000, 0.6667)\n",
      "project dimension   59 gives: (train, test) =  (1.0000, 0.7143)\n",
      "project dimension   61 gives: (train, test) =  (1.0000, 0.7143)\n",
      "project dimension   63 gives: (train, test) =  (1.0000, 0.6667)\n",
      "project dimension   65 gives: (train, test) =  (1.0000, 0.6667)\n",
      "project dimension   67 gives: (train, test) =  (1.0000, 0.6190)\n",
      "project dimension   69 gives: (train, test) =  (1.0000, 0.6190)\n",
      "project dimension   71 gives: (train, test) =  (1.0000, 0.7619)\n",
      "project dimension   73 gives: (train, test) =  (1.0000, 0.7143)\n",
      "project dimension   75 gives: (train, test) =  (1.0000, 0.6190)\n",
      "project dimension   77 gives: (train, test) =  (1.0000, 0.6667)\n",
      "project dimension   79 gives: (train, test) =  (1.0000, 0.6190)\n",
      "project dimension   81 gives: (train, test) =  (1.0000, 0.6190)\n",
      "Best score was for r =   71 with: (train, test) =  (1.0000, 0.7619)\n"
     ]
    },
    {
     "data": {
      "image/png": "[encoded data removed]",
      "text/plain": [
       "<Figure size 432x288 with 1 Axes>"
      ]
     },
     "metadata": {
      "needs_background": "light"
     },
     "output_type": "display_data"
    }
   ],
   "source": [
    "### TODO ### \n",
    "## Choose a range of different projected dimensions to test\n",
    "## project_dimensions = range(???)\n",
    "#############\n",
    "test_accuracy = []\n",
    "training_accuracy = []\n",
    "s = 2*X_train.shape[0]\n",
    "project_dimensions = np.arange(X_train.shape[0],s,2)\n",
    "W = np.random.normal(0,1,X_train.shape[1]* 2*X_train.shape[0]).reshape(X_train.shape[1],2*X_train.shape[0])\n",
    "for r in project_dimensions: \n",
    "    ### TODO ###   \n",
    "    # 3)    project the data matrix $X \\rightarrow XW$ using Gaussian and fit, \n",
    "    #      transform and score using Logstic Regression\n",
    "    # trainscore =  ??\n",
    "    # training_accuracy.append(trainscore)\n",
    "    # testscore = ??\n",
    "    # test_accuracy.append(testscore)\n",
    "    W_ = W[:,:r]\n",
    "    X_train_ = X_train.dot(W_)\n",
    "    X_test_ = X_test.dot(W_)\n",
    "    log_reg_ = LogisticRegression(C = C0, solver='liblinear')\n",
    "    log_reg_.fit(X_train_,y_train)\n",
    "    trainscore = log_reg_.score(X_train_,y_train)\n",
    "    training_accuracy.append(trainscore)\n",
    "    testscore = log_reg_.score(X_test_,y_test)\n",
    "    test_accuracy.append(testscore)\n",
    "    #############\n",
    "    print (\"project dimension %4d gives: (train, test) =  (%.4f, %.4f)\" % (r, trainscore,testscore))\n",
    "# coef_recover= log_regt.coef_.dot(X_train.transpose())\n",
    "\n",
    "plt.plot(project_dimensions,training_accuracy, label='Accuracy of the training set')\n",
    "plt.plot(project_dimensions,test_accuracy, label='Accuracy of the test set')\n",
    "plt.ylabel('Accuracy')\n",
    "plt.xlabel('Projected Dimension')\n",
    "plt.legend()\n",
    "index_max = np.argmax(test_accuracy)\n",
    "print(\"Best score was for r =%5d with: (train, test) =  (%.4f, %.4f)\"% (project_dimensions[index_max], training_accuracy[index_max],test_accuracy[index_max]))"
   ]
  },
  {
   "cell_type": "markdown",
   "metadata": {},
   "source": [
    "3) Gaussian random projection can act like a regularizor and increase the prediction accuracy."
   ]
  },
  {
   "cell_type": "markdown",
   "metadata": {},
   "source": [
    "## Exercise 2:\n",
    "\n",
    "Now we will work with large text based data set. For this you need to code the following random transform $W \\in \\mathbb{R}^{d \\times r}$ that take a sparsity parameter $s$ as an input:\n",
    "\n",
    "$$ W_{ij}  = \\sqrt{\\frac{s}{r}}\n",
    "\\begin{cases}\n",
    "1 \\quad & \\mbox{with probability }\\frac{1}{2s} \\\\\n",
    "0 \\quad & \\mbox{with probability }1-\\frac{1}{s} \\\\\n",
    "-1 \\quad & \\mbox{with probability }\\frac{1}{2s} \n",
    "\\end{cases}$$\n",
    "\n",
    "* Code a function Generate_Sparse_Transform$(s,r,d)$ that takes an input  \n",
    "   * sparsity parameter  $s$\n",
    "   * input dimension $d \\in \\mathbb{N}$\n",
    "   * lower dimensional projected dimension $r \\in \\mathbb{N}$\n",
    "and gives as output a random transform,  stored in an efficient format\n",
    "\n",
    "* Code a function Apply_Sparse_Transform$(R,X)$ that takes an input\n",
    "   * the random transform $W$ as generated by  Generate\\_sparse\\_transform$(s,r,d)$\n",
    "   * a given data matrix $X \\in \\mathbb{R}^{n\\times d}$\n",
    "the output will be $XW$. Note that this looks different then our class notes where we have $W^\\top X.$ The reason for this is that the data is transposed here!\n",
    "\n",
    "\n",
    "*Note* if you have not implemented this efficiently, you will probably run out of memory!  \n",
    "\n",
    "\n",
    "We will test if random projections are able to preserve pairwise distances by applying K-Neighrest Neighbors to projected data.\n",
    "\n",
    "1) Code the above two functions (their stub is provided below)\n",
    "\n",
    "\n",
    "2) Load the data set X. Then fit, transform and score sklearn's KNeighborsClassifier on this data, where \n",
    "$X = $ {anthracyclineTaxaneChemotherapy, sector.scale}. Below you will find how to load this data.\n",
    "\n",
    "3) Repeat the previous step, but first randomly project that data using X -> XW. Repeat this test for different values of the sparsity parameter s and projected dimension parameter r. What can you conclude? \n",
    "\n",
    "*Hint* As a rule of thumb $s = \\sqrt{r}$ often works well, and is a good trade off between sparsity and project dimension size. \n"
   ]
  },
  {
   "cell_type": "code",
   "execution_count": 10,
   "metadata": {
    "ExecuteTime": {
     "end_time": "2018-10-22T08:54:58.445185Z",
     "start_time": "2018-10-22T08:54:58.430201Z"
    }
   },
   "outputs": [],
   "source": [
    "import scipy\n",
    "from sklearn.utils.extmath import safe_sparse_dot   ## <-- I recommend using this function\n",
    "from sklearn.utils.random import sample_without_replacement  ## <-- I recommend using this function\n",
    "\n",
    "def GenerateSparseTransform(s,r,d):\n",
    "    '''\n",
    "    Implement this function. Make sure that W is a sparse matrix.\n",
    "    \n",
    "    Input : \n",
    "        s : sparsity parameter s\n",
    "        r : \n",
    "        d : input dimension\n",
    "    \n",
    "    Returns:\n",
    "        W : a sparse matrix, of size d by r\n",
    "    '''\n",
    "    a = [1, 0, -1]\n",
    "    size = (d, r)\n",
    "    p = [1/(2*s), 1-1/s, 1/(2*s)]\n",
    "    W = np.sqrt(s/r) * np.random.choice(a,size,p=p)\n",
    "    W = scipy.sparse.csr_matrix(W)\n",
    "    \n",
    "    return W\n",
    "\n",
    "def GenerateSparseTransform2(s,r,d):\n",
    "    '''\n",
    "    Implement this function. Make sure that W is a sparse matrix.\n",
    "    \n",
    "    Input : \n",
    "        s : sparsity parameter s\n",
    "        r : \n",
    "        d : input dimension\n",
    "    \n",
    "    Returns:\n",
    "        W : a sparse matrix, of size d by r\n",
    "    '''\n",
    "\n",
    "    p = np.sqrt(s/r)\n",
    "    W = scipy.sparse.rand(d, r, density=1/s, format='lil')\n",
    "    V = scipy.sparse.find(W)\n",
    "    for i,j,v in zip(V[0], V[1], V[2]):\n",
    "        W[i, j] = p if v >0.5 else -p\n",
    "            \n",
    "    return W\n",
    "\n",
    "def GenerateSparseTransform3(s,r,d):\n",
    "    '''\n",
    "    Implement this function. Make sure that W is a sparse matrix.\n",
    "    \n",
    "    Input : \n",
    "        s : sparsity parameter s\n",
    "        r : \n",
    "        d : input dimension\n",
    "    \n",
    "    Returns:\n",
    "        W : a sparse matrix, of size d by r\n",
    "    '''\n",
    "\n",
    "    p = np.sqrt(s/r)\n",
    "    W = scipy.sparse.rand(d, r, density=1/s, format='lil')\n",
    "    W[W>0.50] = -1\n",
    "    W[W>0] = -p\n",
    "    W[W == -1] = p\n",
    "    \n",
    "            \n",
    "    return W\n",
    "\n",
    "def ApplySparseTransform(W,X_):\n",
    "#     W   : Sparse randomly generated matrix of size d by r\n",
    "#     X_  : Data matrix to be compressed, of size n by d\n",
    "#    NOTE: The dimensions of W and X_ are such that the product X_*W is defined (which is different that what we used in class)\n",
    "    ### TODO ### \n",
    "    ##  Implement this function. Make sure that W is a sparse matrix!\n",
    "    Xtransformed = safe_sparse_dot(X_,W.todense())\n",
    "    #############\n",
    "    return Xtransformed"
   ]
  },
  {
   "cell_type": "markdown",
   "metadata": {},
   "source": [
    "We came up with 3 different ways to create the sparse matrix. The first way is to create the matrix we need, then store it into a sparse matrix. The second and the third  way to create a random sparse matrix, then modifiy the elements' value and sign. In the next step, we will compare these three ways and finally choose the best one."
   ]
  },
  {
   "cell_type": "code",
   "execution_count": 11,
   "metadata": {
    "ExecuteTime": {
     "end_time": "2018-10-22T08:55:48.873391Z",
     "start_time": "2018-10-22T08:54:58.536915Z"
    }
   },
   "outputs": [
    {
     "name": "stderr",
     "output_type": "stream",
     "text": [
      "test_ApplySparseTransform (__main__.UtilsTest) ... ok\n",
      "test_GenerateSparseTransform (__main__.UtilsTest) ... "
     ]
    },
    {
     "name": "stdout",
     "output_type": "stream",
     "text": [
      "Wall time: 280 ms\n",
      "peak memory: 187.95 MiB, increment: 54.51 MiB\n"
     ]
    },
    {
     "name": "stderr",
     "output_type": "stream",
     "text": [
      "ok\n",
      "test_GenerateSparseTransform2 (__main__.UtilsTest) ... "
     ]
    },
    {
     "name": "stdout",
     "output_type": "stream",
     "text": [
      "Size: 56\n",
      "Wall time: 8.06 s\n",
      "peak memory: 253.47 MiB, increment: 119.28 MiB\n",
      "Size: 56\n"
     ]
    },
    {
     "name": "stderr",
     "output_type": "stream",
     "text": [
      "ok\n",
      "test_GenerateSparseTransform3 (__main__.UtilsTest) ... "
     ]
    },
    {
     "name": "stdout",
     "output_type": "stream",
     "text": [
      "Wall time: 3.9 s\n",
      "peak memory: 277.70 MiB, increment: 141.84 MiB\n",
      "Size: 56\n"
     ]
    },
    {
     "name": "stderr",
     "output_type": "stream",
     "text": [
      "ok\n",
      "\n",
      "----------------------------------------------------------------------\n",
      "Ran 4 tests in 50.210s\n",
      "\n",
      "OK\n"
     ]
    },
    {
     "data": {
      "text/plain": [
       "<unittest.runner.TextTestResult run=4 errors=0 failures=0>"
      ]
     },
     "execution_count": 11,
     "metadata": {},
     "output_type": "execute_result"
    }
   ],
   "source": [
    "class UtilsTest(unittest.TestCase):\n",
    "    \n",
    "    def test_GenerateSparseTransform(self):\n",
    "        %time GenerateSparseTransform(4,2000,2000)\n",
    "        %memit GenerateSparseTransform(4,2000,2000)\n",
    "        s,r,d = 4,2000,2000\n",
    "        W = GenerateSparseTransform(s,d,r)\n",
    "        A = scipy.sparse.find(W)\n",
    "        nb_nonzero = len(A[0])\n",
    "        print('Size:',sys.getsizeof(W))\n",
    "        self.assertAlmostEqual(1-1/s,1 - nb_nonzero/(d*r), 3)\n",
    "        self.assertAlmostEqual(1/(2.*s),np.sum(W>0)/(d*r), 3)\n",
    "        self.assertAlmostEqual(1/(2.*s),np.sum(W<0) /(d*r), 3)\n",
    "        \n",
    "    def test_GenerateSparseTransform2(self):\n",
    "        %time GenerateSparseTransform2(4,2000,2000)\n",
    "        %memit GenerateSparseTransform2(4,2000,2000)\n",
    "        s,r,d = 4,2000,2000\n",
    "        \n",
    "        W = GenerateSparseTransform2(s,d,r)\n",
    "        print('Size:',sys.getsizeof(W))\n",
    "        A = scipy.sparse.find(W)\n",
    "        nb_nonzero = len(A[0])\n",
    "        self.assertAlmostEqual(1-1/s,1 - nb_nonzero/(d*r), 3)\n",
    "        self.assertAlmostEqual(1/(2.*s),np.sum(W>0)/(d*r), 3)\n",
    "        self.assertAlmostEqual(1/(2.*s),np.sum(W<0) /(d*r), 3)\n",
    "        \n",
    "        \n",
    "    def test_GenerateSparseTransform3(self):\n",
    "        %time GenerateSparseTransform3(4,2000,2000)\n",
    "        %memit GenerateSparseTransform3(4,2000,2000)\n",
    "        s,r,d = 4,2000,2000\n",
    "        W = GenerateSparseTransform3(s,d,r)\n",
    "        print('Size:',sys.getsizeof(W))\n",
    "        A = scipy.sparse.find(W)\n",
    "        nb_nonzero = len(A[0])\n",
    "        self.assertAlmostEqual(1-1/s,1 - nb_nonzero/(d*r), 3)\n",
    "        self.assertAlmostEqual(1/(2.*s),np.sum(W>0)/(d*r), 3)\n",
    "        self.assertAlmostEqual(1/(2.*s),np.sum(W<0) /(d*r), 3)\n",
    "        \n",
    "\n",
    "    def test_ApplySparseTransform(self):\n",
    "        s,r,d = 4,2000,2000\n",
    "        W = GenerateSparseTransform(s,d,r)\n",
    "        X = scipy.sparse.rand(d, r, density=np.random.rand(1), format='lil')\n",
    "        XT = ApplySparseTransform(W, X)\n",
    "        sol = X.A.dot(W.A)\n",
    "        \n",
    "        self.assertAlmostEqual(np.sum(sol - XT.A), 0.0, 6)\n",
    "                \n",
    "suite = unittest.TestLoader().loadTestsFromTestCase(UtilsTest)        \n",
    "unittest.TextTestRunner(verbosity=2).run(suite)  "
   ]
  },
  {
   "cell_type": "code",
   "execution_count": 12,
   "metadata": {
    "ExecuteTime": {
     "end_time": "2018-10-22T08:57:10.126684Z",
     "start_time": "2018-10-22T08:55:48.976080Z"
    }
   },
   "outputs": [
    {
     "name": "stdout",
     "output_type": "stream",
     "text": [
      "Wall time: 808 ms\n",
      "peak memory: 344.09 MiB, increment: 206.54 MiB\n",
      "Wall time: 26.3 s\n",
      "peak memory: 543.64 MiB, increment: 407.14 MiB\n",
      "Wall time: 11.9 s\n",
      "peak memory: 535.48 MiB, increment: 398.14 MiB\n"
     ]
    }
   ],
   "source": [
    "%time GenerateSparseTransform(4,200,61359)\n",
    "%memit GenerateSparseTransform(4,200,61359)\n",
    "%time GenerateSparseTransform2(4,200, 61359)\n",
    "%memit GenerateSparseTransform2(4,200,61359)\n",
    "%time GenerateSparseTransform3(4,200,61359)\n",
    "%memit GenerateSparseTransform3(4,200,61359)"
   ]
  },
  {
   "cell_type": "markdown",
   "metadata": {},
   "source": [
    "When the data's dimension is not too big, it seems that the first way can create a sparse matrix more quickly and costs less memory. But we are not sure if it works as well when the data's dimension grows larger."
   ]
  },
  {
   "cell_type": "code",
   "execution_count": 13,
   "metadata": {
    "ExecuteTime": {
     "end_time": "2018-10-22T08:58:58.330817Z",
     "start_time": "2018-10-22T08:57:10.213446Z"
    }
   },
   "outputs": [
    {
     "name": "stdout",
     "output_type": "stream",
     "text": [
      "Wall time: 11.2 s\n",
      "peak memory: 4562.05 MiB, increment: 4423.51 MiB\n",
      "Wall time: 28.2 s\n",
      "peak memory: 657.70 MiB, increment: 520.28 MiB\n",
      "Wall time: 12.6 s\n",
      "peak memory: 676.61 MiB, increment: 537.91 MiB\n"
     ]
    }
   ],
   "source": [
    "%time GenerateSparseTransform(70,4269,55197)\n",
    "%memit GenerateSparseTransform(70,4296,55197)\n",
    "%time GenerateSparseTransform2(70,4296,55197)\n",
    "%memit GenerateSparseTransform2(70,4296,55197)\n",
    "%time GenerateSparseTransform3(70,4296,55197)\n",
    "%memit GenerateSparseTransform3(70,4296,55197)"
   ]
  },
  {
   "cell_type": "markdown",
   "metadata": {
    "ExecuteTime": {
     "end_time": "2018-10-21T12:10:44.988033Z",
     "start_time": "2018-10-21T12:10:44.981015Z"
    }
   },
   "source": [
    "According to the result of profiling, we find out that when the data's dimension grow large, the performence of the first implementation is much worse. It seems that the third way works best in this circumstance."
   ]
  },
  {
   "cell_type": "markdown",
   "metadata": {},
   "source": [
    "## Load and test easier data set *anthracyclineTaxaneChemotherapy*"
   ]
  },
  {
   "cell_type": "code",
   "execution_count": 14,
   "metadata": {
    "ExecuteTime": {
     "end_time": "2018-10-22T09:00:00.757434Z",
     "start_time": "2018-10-22T09:00:00.754441Z"
    }
   },
   "outputs": [],
   "source": [
    "#from sklearn.datasets import fetch_openml\n",
    "#chemo = fetch_openml(name='anthracyclineTaxaneChemotherapy')"
   ]
  },
  {
   "cell_type": "markdown",
   "metadata": {},
   "source": [
    "### if fetch_openml fails  \n",
    "**ALTERNATIVE HACK for loading the data**\n",
    "  \n",
    "* downloard the data from data set in arff format from: https://www.openml.org/d/1085\n",
    " \n",
    "* place data in the same folder as this notebook and run the code in the next cell"
   ]
  },
  {
   "cell_type": "code",
   "execution_count": 15,
   "metadata": {
    "ExecuteTime": {
     "end_time": "2018-10-22T09:00:10.202201Z",
     "start_time": "2018-10-22T09:00:01.545360Z"
    }
   },
   "outputs": [],
   "source": [
    "## ALTERNATIVE HACK for loading anthracyclineTaxaneChemotherapy ## \n",
    "from scipy.io import arff\n",
    "dataset = arff.loadarff('phpCLGrjq.arff')\n",
    "import pandas as pd\n",
    "Xdf = pd.DataFrame(dataset[0])\n",
    "Xy = Xdf.values\n",
    "n_rows, n_cols = Xy.shape\n",
    "X = Xy[:,:-1]\n",
    "X = np.float_(X)\n",
    "y = Xy[:,-1]\n",
    "y = (np.int_(y))*2-3"
   ]
  },
  {
   "cell_type": "code",
   "execution_count": null,
   "metadata": {
    "ExecuteTime": {
     "start_time": "2018-10-22T09:00:01.923Z"
    }
   },
   "outputs": [],
   "source": [
    "# split test and training. Only use 20% of data for testing because data set is small. \n",
    "X_train, X_test, y_train, y_test = train_test_split(X, y, test_size=0.20, random_state=42) \n",
    "n, d = X_train.shape\n",
    "print('{n} trainig data points and {d} features'.format(n = n,d =d))"
   ]
  },
  {
   "cell_type": "code",
   "execution_count": null,
   "metadata": {
    "ExecuteTime": {
     "start_time": "2018-10-22T09:00:02.278Z"
    }
   },
   "outputs": [],
   "source": [
    "# 2) fit, transform and score the knn Classifier\n",
    "n_neighbors =2 # <-- use this number of neighbours\n",
    "knn = KNeighborsClassifier(n_neighbors=n_neighbors)\n",
    "\n",
    "knn.fit(X_train,y_train)\n",
    "trainscore = knn.score(X_train, y_train)\n",
    "training_accuracy.append(trainscore)\n",
    "testscore = knn.score(X_test, y_test)\n",
    "test_accuracy.append(knn.score(X_test, y_test))\n",
    "print (\"project dim %5d gives: (train, test) =  (%.4f, %.4f)\" % (d, trainscore,testscore))"
   ]
  },
  {
   "cell_type": "code",
   "execution_count": null,
   "metadata": {
    "ExecuteTime": {
     "start_time": "2018-10-22T09:00:02.624Z"
    }
   },
   "outputs": [],
   "source": [
    "test_accuracy = []\n",
    "training_accuracy = []\n",
    "n_neighbors = 2  #< -- I recommend 2 neighbors\n",
    "\n",
    "### TODO ### \n",
    "## Choose a range of different projected dimensions to test\n",
    "## project_dimensions = range(???)\n",
    "## HINT: Only test project dimensions  r <= int(min(5*n,d/2))\n",
    "#############\n",
    "\n",
    "knn = KNeighborsClassifier(n_neighbors=n_neighbors)\n",
    "project_dimensions = np.arange(n,int(min(5*n,d/2)),30)\n",
    "\n",
    "for r in project_dimensions:  \n",
    "    ### TODO ###   \n",
    "    # 3)    project the data matrix $X \\rightarrow XW$ using Gaussian and fit, \n",
    "    #      transform and score using knn\n",
    "    # W = GenerateSparseTransform(???)\n",
    "    # Xt_train = ApplySparseTransform(W,X_train)\n",
    "    # Xt_test =  ApplySparseTransform(W,X_test)\n",
    "    # trainscore =  ??\n",
    "    # training_accuracy.append(trainscore)\n",
    "    # testscore = ??\n",
    "    # test_accuracy.append(testscore)\n",
    "    W = GenerateSparseTransform(np.sqrt(r), r, d)\n",
    "    Xt_train = ApplySparseTransform(W,X_train)\n",
    "    Xt_test =  ApplySparseTransform(W,X_test)\n",
    "    knn.fit(Xt_train,y_train)\n",
    "    trainscore = knn.score(Xt_train, y_train)\n",
    "    training_accuracy.append(trainscore)\n",
    "    testscore = knn.score(Xt_test, y_test)\n",
    "    test_accuracy.append(testscore)\n",
    "    #############\n",
    "    print (\"project dim %5d gives: (train, test) =  (%.4f, %.4f)\" % (r, trainscore,testscore))\n",
    "    \n",
    "list_proj_dims = list(project_dimensions)\n",
    "plt.plot(list_proj_dims,training_accuracy, label='Accuracy of the training set')\n",
    "plt.plot(list_proj_dims,test_accuracy, label='Accuracy of the test set')\n",
    "plt.ylabel('Accuracy')\n",
    "plt.xlabel('Projected Dimension')\n",
    "plt.legend()\n",
    "index_max = np.argmax(test_accuracy)\n",
    "print(\"Best score was for r =%5d with: (train, test) =  (%.4f, %.4f)\"% (list_proj_dims[index_max], training_accuracy[index_max],test_accuracy[index_max]))"
   ]
  },
  {
   "cell_type": "markdown",
   "metadata": {},
   "source": [
    "## Load and test HARDER data set *sector.scale*  \n",
    "**(only try this data set after successfully testing the anthracyclineTaxaneChemotherapy data set)**"
   ]
  },
  {
   "cell_type": "code",
   "execution_count": null,
   "metadata": {
    "ExecuteTime": {
     "start_time": "2018-10-22T09:00:03.652Z"
    }
   },
   "outputs": [],
   "source": [
    "# Download the data set from:\n",
    "# https://www.csie.ntu.edu.tw/~cjlin/libsvmtools/datasets/multiclass/sector/sector.scale.bz2\n",
    "# place data in the same folder as this python notebook\n",
    "dataname = \"sector.scale\"  \n",
    "X, y = get_data(dataname)\n",
    "n, d = X.shape\n",
    "print('{n} data points and {d} features'.format(n = n,d =d))"
   ]
  },
  {
   "cell_type": "code",
   "execution_count": null,
   "metadata": {
    "ExecuteTime": {
     "start_time": "2018-10-22T09:00:04.526Z"
    }
   },
   "outputs": [],
   "source": [
    "# split test and training \n",
    "X_train, X_test, y_train, y_test = train_test_split(X, y, test_size=0.33, random_state=42)\n",
    "n, d = X_train.shape\n",
    "print('{n} trainig data points and {d} features'.format(n = n,d =d))"
   ]
  },
  {
   "cell_type": "code",
   "execution_count": null,
   "metadata": {
    "ExecuteTime": {
     "start_time": "2018-10-22T09:00:07.500Z"
    }
   },
   "outputs": [],
   "source": [
    "### TODO ### \n",
    "## repeat the same experiments for this larger data set\n",
    "## HINT: Only test project dimensions r <= int(min(2*n,d/2))\n",
    "n_neighbors = 1 \n",
    "knn = KNeighborsClassifier(n_neighbors=n_neighbors)\n",
    "\n",
    "knn.fit(X_train,y_train)\n",
    "trainscore = knn.score(X_train, y_train)\n",
    "training_accuracy.append(trainscore)\n",
    "testscore = knn.score(X_test, y_test)\n",
    "test_accuracy.append(knn.score(X_test, y_test))\n",
    "print (\"project dim %5d gives: (train, test) =  (%.4f, %.4f)\" % (d, trainscore,testscore))\n",
    "#############"
   ]
  },
  {
   "cell_type": "code",
   "execution_count": null,
   "metadata": {
    "ExecuteTime": {
     "start_time": "2018-10-22T08:20:26.946Z"
    }
   },
   "outputs": [],
   "source": [
    "test_accuracy = []\n",
    "training_accuracy = []\n",
    "n_neighbors = 1   ## <-- I recommend using this\n",
    "knn = KNeighborsClassifier(n_neighbors=n_neighbors)\n",
    "#project_dimensions = np.arange(20,int(min(2*n,d/2)),300)\n",
    "project_dimensions = np.arange(n,int(min(2*n,d/2)),int(n/10))\n",
    "    \n",
    "for r in project_dimensions:  \n",
    "    ### TODO ###   \n",
    "    # 3)    project the data matrix $X \\rightarrow XW$ using Gaussian and fit, \n",
    "    #      transform and score using Logstic Regression\n",
    "    # W = GenerateSparseTransform(???)\n",
    "    # Xt_train = ApplySparseTransform(W,X_train)\n",
    "    # Xt_test =  ApplySparseTransform(W,X_test)\n",
    "    # trainscore =  ??\n",
    "    # training_accuracy.append(trainscore)\n",
    "    # testscore = ??\n",
    "    # test_accuracy.append(testscore)\n",
    "    W = GenerateSparseTransform3(np.sqrt(r), r, d)\n",
    "    Xt_train = ApplySparseTransform(W,X_train)\n",
    "    Xt_test =  ApplySparseTransform(W,X_test)\n",
    "    knn.fit(Xt_train,y_train)\n",
    "    trainscore = knn.score(Xt_train, y_train)\n",
    "    training_accuracy.append(trainscore)\n",
    "    testscore = knn.score(Xt_test, y_test)\n",
    "    test_accuracy.append(testscore)\n",
    "    #############\n",
    "    print (\"project dim %5d gives: (train, test) =  (%.4f, %.4f)\" % (r, trainscore,testscore))\n",
    "\n",
    "list_proj_dims = list(project_dimensions)\n",
    "plt.plot(list_proj_dims,training_accuracy, label='Accuracy of the training set')\n",
    "plt.plot(list_proj_dims,test_accuracy, label='Accuracy of the test set')\n",
    "plt.ylabel('Accuracy')\n",
    "plt.xlabel('Projected Dimension')\n",
    "plt.legend()\n",
    "index_max = np.argmax(test_accuracy)\n",
    "print(\"Best score was for r =%5d with: (train, test) =  (%.4f, %.4f)\"% (list_proj_dims[index_max], training_accuracy[index_max],test_accuracy[index_max]))"
   ]
  },
  {
   "cell_type": "markdown",
   "metadata": {},
   "source": [
    "## Bonus question\n",
    "\n",
    "Using the Jonhson-Lindenstrauss Lemma, we can have an estimate for the projected dimension using\n",
    "\n",
    "$$r = \\frac{1}{\\epsilon^2}\\log(n/\\delta) $$\n",
    "\n",
    "1) Write a function for calculating this given suggested project dimension r. \n",
    "2) Test for each of the above data sets with \\epsilon = 0.05 = \\delta and compare to your results. "
   ]
  },
  {
   "cell_type": "code",
   "execution_count": null,
   "metadata": {
    "ExecuteTime": {
     "start_time": "2018-10-22T08:20:27.281Z"
    }
   },
   "outputs": [],
   "source": [
    "#1\n",
    "def calculate_project_dimension(epsilon, delta, n):\n",
    "    return int(np.log(n/delta)/(epsilon**2))\n",
    "\n",
    "def calculate_score(X, y, knn):\n",
    "    X_train, X_test, y_train, y_test = train_test_split(X, y, test_size=0.33, random_state=42)\n",
    "    n, d = X_train.shape\n",
    "    epsilon = 0.05\n",
    "    delta = 0.05\n",
    "    r = calculate_project_dimension(epsilon,delta, n)\n",
    "    W = GenerateSparseTransform(np.sqrt(r), r, d)\n",
    "    Xt_train = ApplySparseTransform(W,X_train)\n",
    "    Xt_test =  ApplySparseTransform(W,X_test)\n",
    "    knn.fit(Xt_train,y_train)\n",
    "    trainscore = knn.score(Xt_train, y_train)\n",
    "    testscore = knn.score(Xt_test, y_test)\n",
    "    return trainscore, testscore, r"
   ]
  },
  {
   "cell_type": "code",
   "execution_count": null,
   "metadata": {
    "ExecuteTime": {
     "start_time": "2018-10-22T08:20:27.464Z"
    }
   },
   "outputs": [],
   "source": [
    "#2\n",
    "#colon-cancer\n",
    "dataname = \"colon-cancer\"  \n",
    "X, y = get_data(dataname)\n",
    "X_train, X_test, y_train, y_test = train_test_split(X, y, test_size=0.33, random_state=42)\n",
    "n, d = X_train.shape\n",
    "epsilon = 0.05\n",
    "delta = 0.05\n",
    "r = calculate_project_dimension(epsilon,delta, n)\n",
    "W = np.random.normal(0,1,X_train.shape[1]*r).reshape(X_train.shape[1],r)\n",
    "Xt_train = X_train.dot(W)\n",
    "Xt_test = X_test.dot(W)\n",
    "log_reg_ = LogisticRegression(C = C0, solver='liblinear')\n",
    "log_reg_.fit(Xt_train,y_train)\n",
    "trainscore = log_reg_.score(Xt_train, y_train)\n",
    "testscore = log_reg_.score(Xt_test, y_test)\n",
    "print (\"Using the Jonhson-Lindenstrauss Lemma with the datatset colon-cancer, project dim %5d gives: (train, test) =  (%.4f, %.4f)\" \n",
    "           % (r, trainscore,testscore))"
   ]
  },
  {
   "cell_type": "markdown",
   "metadata": {},
   "source": [
    "Using the Jonhson-Lindenstrauss Lemma on the \"colon-cancer\" dataset, we calculate the r = 2683, which is more than it's own dimension. So the final result is worse."
   ]
  },
  {
   "cell_type": "code",
   "execution_count": null,
   "metadata": {
    "ExecuteTime": {
     "start_time": "2018-10-22T08:20:27.799Z"
    }
   },
   "outputs": [],
   "source": [
    "#anthracyclineTaxaneChemotherapy\n",
    "Xdf = pd.DataFrame(dataset[0])\n",
    "Xy = Xdf.values\n",
    "n_rows, n_cols = Xy.shape\n",
    "X = Xy[:,:-1]\n",
    "X = np.float_(X)\n",
    "y = Xy[:,-1]\n",
    "y = (np.int_(y))*2-3\n",
    "X_train, X_test, y_train, y_test = train_test_split(X, y, test_size=0.33, random_state=42)\n",
    "n, d = X_train.shape\n",
    "r = calculate_project_dimension(epsilon,delta, n)\n",
    "W = GenerateSparseTransform3(np.sqrt(r), r, d)\n",
    "Xt_train = ApplySparseTransform(W,X_train)\n",
    "Xt_test =  ApplySparseTransform(W,X_test)\n",
    "n_neighbors = 2\n",
    "knn = KNeighborsClassifier(n_neighbors=n_neighbors)\n",
    "knn.fit(Xt_train,y_train)\n",
    "trainscore = knn.score(Xt_train, y_train)\n",
    "testscore = knn.score(Xt_test, y_test)\n",
    "print (\"Using the Jonhson-Lindenstrauss Lemma with the datatset Chemo, project dim %5d gives: (train, test) =  (%.4f, %.4f)\" \n",
    "           % (r, trainscore,testscore))"
   ]
  },
  {
   "cell_type": "markdown",
   "metadata": {},
   "source": [
    "With the Jonhson-Lindenstrauss Lemma, the dimension is reduced to 3063, which is much bigger than 5n. And we can see that the predict score is slightly better than the best result before."
   ]
  },
  {
   "cell_type": "code",
   "execution_count": null,
   "metadata": {
    "ExecuteTime": {
     "start_time": "2018-10-22T08:20:28.150Z"
    }
   },
   "outputs": [],
   "source": [
    "#sector.scale\n",
    "dataname = \"sector.scale\"  \n",
    "X, y = get_data(dataname)\n",
    "X_train, X_test, y_train, y_test = train_test_split(X, y, test_size=0.33, random_state=42)\n",
    "n, d = X_train.shape\n",
    "r = calculate_project_dimension(epsilon,delta, n)\n",
    "W = GenerateSparseTransform3(np.sqrt(r), r, d)\n",
    "Xt_train = ApplySparseTransform(W,X_train)\n",
    "Xt_test =  ApplySparseTransform(W,X_test)\n",
    "n_neighbors = 1\n",
    "knn = KNeighborsClassifier(n_neighbors=n_neighbors)\n",
    "knn.fit(Xt_train,y_train)\n",
    "trainscore = knn.score(Xt_train, y_train)\n",
    "testscore = knn.score(Xt_test, y_test)\n",
    "print (\"Using the Jonhson-Lindenstrauss Lemma with the datatset sector.scale, project dim %5d gives: (train, test) =  (%.4f, %.4f)\" \n",
    "           % (r, trainscore,testscore))"
   ]
  },
  {
   "cell_type": "markdown",
   "metadata": {
    "collapsed": true
   },
   "source": [
    "With the Jonhson-Lindenstrauss Lemma, we get the dimension of 4544, it's not far from n. Comparing the predict score with the best score we got before, which is 0.8823, it seems that the score is slightly lower. "
   ]
  },
  {
   "cell_type": "code",
   "execution_count": null,
   "metadata": {},
   "outputs": [],
   "source": []
  },
  {
   "cell_type": "code",
   "execution_count": null,
   "metadata": {},
   "outputs": [],
   "source": []
  },
  {
   "cell_type": "code",
   "execution_count": null,
   "metadata": {},
   "outputs": [],
   "source": []
  },
  {
   "cell_type": "code",
   "execution_count": null,
   "metadata": {},
   "outputs": [],
   "source": []
  },
  {
   "cell_type": "code",
   "execution_count": null,
   "metadata": {},
   "outputs": [],
   "source": []
  },
  {
   "cell_type": "code",
   "execution_count": null,
   "metadata": {},
   "outputs": [],
   "source": []
  }
 ],
 "metadata": {
  "anaconda-cloud": {},
  "kernelspec": {
   "display_name": "Python 3",
   "language": "python",
   "name": "python3"
  },
  "language_info": {
   "codemirror_mode": {
    "name": "ipython",
    "version": 3
   },
   "file_extension": ".py",
   "mimetype": "text/x-python",
   "name": "python",
   "nbconvert_exporter": "python",
   "pygments_lexer": "ipython3",
   "version": "3.7.0"
  },
  "toc": {
   "base_numbering": 1,
   "nav_menu": {},
   "number_sections": true,
   "sideBar": true,
   "skip_h1_title": false,
   "title_cell": "Table of Contents",
   "title_sidebar": "Contents",
   "toc_cell": true,
   "toc_position": {},
   "toc_section_display": true,
   "toc_window_display": false
  },
  "varInspector": {
   "cols": {
    "lenName": 16,
    "lenType": 16,
    "lenVar": 40
   },
   "kernels_config": {
    "python": {
     "delete_cmd_postfix": "",
     "delete_cmd_prefix": "del ",
     "library": "var_list.py",
     "varRefreshCmd": "print(var_dic_list())"
    },
    "r": {
     "delete_cmd_postfix": ") ",
     "delete_cmd_prefix": "rm(",
     "library": "var_list.r",
     "varRefreshCmd": "cat(var_dic_list()) "
    }
   },
   "types_to_exclude": [
    "module",
    "function",
    "builtin_function_or_method",
    "instance",
    "_Feature"
   ],
   "window_display": false
  }
 },
 "nbformat": 4,
 "nbformat_minor": 1
}

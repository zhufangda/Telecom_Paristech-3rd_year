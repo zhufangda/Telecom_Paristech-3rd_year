{
 "cells": [
  {
   "cell_type": "markdown",
   "metadata": {
    "toc": true
   },
   "source": [
    "<h1>Table of Contents<span class=\"tocSkip\"></span></h1>\n",
    "<div class=\"toc\"><ul class=\"toc-item\"><li><span><a href=\"#LAB:-Random-Projections-:-SOLUTIONS\" data-toc-modified-id=\"LAB:-Random-Projections-:-SOLUTIONS-1\"><span class=\"toc-item-num\">1&nbsp;&nbsp;</span>LAB: Random Projections : SOLUTIONS</a></span><ul class=\"toc-item\"><li><ul class=\"toc-item\"><li><ul class=\"toc-item\"><li><span><a href=\"#Authors:-R.-M.-Gower\" data-toc-modified-id=\"Authors:-R.-M.-Gower-1.0.0.1\"><span class=\"toc-item-num\">1.0.0.1&nbsp;&nbsp;</span>Authors: R. M. Gower</a></span></li></ul></li></ul></li><li><span><a href=\"#Aim\" data-toc-modified-id=\"Aim-1.1\"><span class=\"toc-item-num\">1.1&nbsp;&nbsp;</span>Aim</a></span></li><li><span><a href=\"#VERY-IMPORTANT\" data-toc-modified-id=\"VERY-IMPORTANT-1.2\"><span class=\"toc-item-num\">1.2&nbsp;&nbsp;</span>VERY IMPORTANT</a></span></li></ul></li><li><span><a href=\"#Gentle-reminder:-no-evaluation-if-you-don't-respect-this-EXACTLY\" data-toc-modified-id=\"Gentle-reminder:-no-evaluation-if-you-don't-respect-this-EXACTLY-2\"><span class=\"toc-item-num\">2&nbsp;&nbsp;</span>Gentle reminder: no evaluation if you don't respect this EXACTLY</a></span><ul class=\"toc-item\"><li><ul class=\"toc-item\"><li><span><a href=\"#How-to-construct-the-name-of-your-file\" data-toc-modified-id=\"How-to-construct-the-name-of-your-file-2.0.1\"><span class=\"toc-item-num\">2.0.1&nbsp;&nbsp;</span>How to construct the name of your file</a></span></li></ul></li><li><span><a href=\"#EXERCISE-1:\" data-toc-modified-id=\"EXERCISE-1:-2.1\"><span class=\"toc-item-num\">2.1&nbsp;&nbsp;</span>EXERCISE 1:</a></span><ul class=\"toc-item\"><li><span><a href=\"#Corollary-of-Range-Space-Preserving-Theorem\" data-toc-modified-id=\"Corollary-of-Range-Space-Preserving-Theorem-2.1.1\"><span class=\"toc-item-num\">2.1.1&nbsp;&nbsp;</span>Corollary of Range Space Preserving Theorem</a></span></li><li><span><a href=\"#End-Corollary\" data-toc-modified-id=\"End-Corollary-2.1.2\"><span class=\"toc-item-num\">2.1.2&nbsp;&nbsp;</span>End Corollary</a></span><ul class=\"toc-item\"><li><span><a href=\"#1)-Show-that-by-setting-the-regularization-parameter-close-to-zero-(C-=-10^9)-in-LogisticRegression,-the-score-obtained-by-training-using-$X$-and-$X^\\top-X$-is-the-same\" data-toc-modified-id=\"1)-Show-that-by-setting-the-regularization-parameter-close-to-zero-(C-=-10^9)-in-LogisticRegression,-the-score-obtained-by-training-using-$X$-and-$X^\\top-X$-is-the-same-2.1.2.1\"><span class=\"toc-item-num\">2.1.2.1&nbsp;&nbsp;</span>1) Show that by setting the regularization parameter close to zero (C = 10^9) in LogisticRegression, the score obtained by training using $X$ and $X^\\top X$ is the same</a></span></li><li><span><a href=\"#2)-Compute-a-solution-w∗1w1∗-by-directly-solving-(I).-Compute-a-solution-w∗1w1∗-by-directly-solving-(I).-Compare-this-w∗1w1∗-to-the-recovered-solution-X⊤ŵ-∗X⊤w^∗.-Are-they-the-same?-Justify-based-on-Corollary.\" data-toc-modified-id=\"2)-Compute-a-solution-w∗1w1∗-by-directly-solving-(I).-Compute-a-solution-w∗1w1∗-by-directly-solving-(I).-Compare-this-w∗1w1∗-to-the-recovered-solution-X⊤ŵ-∗X⊤w^∗.-Are-they-the-same?-Justify-based-on-Corollary.-2.1.2.2\"><span class=\"toc-item-num\">2.1.2.2&nbsp;&nbsp;</span>2) Compute a solution w∗1w1∗ by directly solving (I). Compute a solution w∗1w1∗ by directly solving (I). Compare this w∗1w1∗ to the recovered solution X⊤ŵ ∗X⊤w^∗. Are they the same? Justify based on Corollary.</a></span></li><li><span><a href=\"#3)-Using-a-random-generated-gaussian-matrix-$W-\\in\\mathbb{R}^{d\\times-r}$-,-project-the-data-matrix-$X-\\rightarrow-XW$.-Test-for--different-values-of-r-and-apply-logistic-regression-to-the-resulting-projected-matrix.-Can-you-explain-what-you-observe?\" data-toc-modified-id=\"3)-Using-a-random-generated-gaussian-matrix-$W-\\in\\mathbb{R}^{d\\times-r}$-,-project-the-data-matrix-$X-\\rightarrow-XW$.-Test-for--different-values-of-r-and-apply-logistic-regression-to-the-resulting-projected-matrix.-Can-you-explain-what-you-observe?-2.1.2.3\"><span class=\"toc-item-num\">2.1.2.3&nbsp;&nbsp;</span>3) Using a random generated gaussian matrix $W \\in\\mathbb{R}^{d\\times r}$ , project the data matrix $X \\rightarrow XW$. Test for  different values of r and apply logistic regression to the resulting projected matrix. Can you explain what you observe?</a></span></li></ul></li></ul></li><li><span><a href=\"#Exercise-2:\" data-toc-modified-id=\"Exercise-2:-2.2\"><span class=\"toc-item-num\">2.2&nbsp;&nbsp;</span>Exercise 2:</a></span></li><li><span><a href=\"#Load-and-test-easier-data-set-anthracyclineTaxaneChemotherapy\" data-toc-modified-id=\"Load-and-test-easier-data-set-anthracyclineTaxaneChemotherapy-2.3\"><span class=\"toc-item-num\">2.3&nbsp;&nbsp;</span>Load and test easier data set <em>anthracyclineTaxaneChemotherapy</em></a></span><ul class=\"toc-item\"><li><span><a href=\"#if-fetch_openml-fails\" data-toc-modified-id=\"if-fetch_openml-fails-2.3.1\"><span class=\"toc-item-num\">2.3.1&nbsp;&nbsp;</span>if fetch_openml fails</a></span></li></ul></li><li><span><a href=\"#Load-and-test-HARDER-data-set-sector.scale\" data-toc-modified-id=\"Load-and-test-HARDER-data-set-sector.scale-2.4\"><span class=\"toc-item-num\">2.4&nbsp;&nbsp;</span>Load and test HARDER data set <em>sector.scale</em></a></span></li><li><span><a href=\"#Bonus-question\" data-toc-modified-id=\"Bonus-question-2.5\"><span class=\"toc-item-num\">2.5&nbsp;&nbsp;</span>Bonus question</a></span></li></ul></li></ul></div>"
   ]
  },
  {
   "cell_type": "markdown",
   "metadata": {},
   "source": [
    "# LAB: Random Projections : SOLUTIONS"
   ]
  },
  {
   "cell_type": "markdown",
   "metadata": {},
   "source": [
    "\n",
    "#### Authors: R. M. Gower\n",
    "\n",
    "## Aim\n",
    "\n",
    "The aim of this material is to\n",
    "- to show that in practice dimension reduction can be used with no loss of accuracy on some problem\n",
    "- code efficient sparse random projections\n",
    "- apply sparse random projections together with knearestneighbors\n",
    "\n",
    "\n",
    "## VERY IMPORTANT\n",
    "\n",
    "- This work **must be done by pairs of students**.\n",
    "- **Each** student must send their jupyter notebook **before the 24th of october at 23:59** to **gowerrobert@gmail.com**\n",
    "- This means that **each student in the pair sends the same file**\n",
    "- The **name of the file must be** constructed as in the next cell\n",
    "\n",
    "# Gentle reminder: no evaluation if you don't respect this EXACTLY\n",
    "\n",
    "### How to construct the name of your file"
   ]
  },
  {
   "cell_type": "code",
   "execution_count": 1,
   "metadata": {
    "ExecuteTime": {
     "end_time": "2018-10-19T18:56:37.345346Z",
     "start_time": "2018-10-19T18:56:37.339327Z"
    }
   },
   "outputs": [
    {
     "name": "stdout",
     "output_type": "stream",
     "text": [
      "lab1_wang_yuqing_and_zhu_fangda.ipynb\n"
     ]
    }
   ],
   "source": [
    "# Change here using YOUR first and last names\n",
    "fn1 = \"yuqing\"\n",
    "ln1 = \"wang\"\n",
    "fn2 = \"fangda\"\n",
    "ln2 = \"zhu\"\n",
    "\n",
    "filename = \"_\".join(map(lambda s: s.strip().lower(), \n",
    "                        [\"lab1\", ln1, fn1, \"and\", ln2, fn2])) + \".ipynb\"\n",
    "print(filename)"
   ]
  },
  {
   "cell_type": "code",
   "execution_count": 2,
   "metadata": {
    "ExecuteTime": {
     "end_time": "2018-10-19T18:56:37.957104Z",
     "start_time": "2018-10-19T18:56:37.953196Z"
    }
   },
   "outputs": [],
   "source": [
    "#Throughout the notebook you will find commented boxes like this one\n",
    "\n",
    "### TODO ###   \n",
    "# please implement blabla\n",
    "#############"
   ]
  },
  {
   "cell_type": "markdown",
   "metadata": {},
   "source": [
    "These boxes need to be replaced by code as explained in the boxes.\n",
    "Solutions will online tomorrow. Good luck!"
   ]
  },
  {
   "cell_type": "code",
   "execution_count": 3,
   "metadata": {
    "ExecuteTime": {
     "end_time": "2018-10-19T18:56:39.219875Z",
     "start_time": "2018-10-19T18:56:38.937822Z"
    }
   },
   "outputs": [],
   "source": [
    "%matplotlib inline\n",
    "try:\n",
    "    %load_ext memory_profiler\n",
    "except:\n",
    "    print(\"Please run !ip install memory_profiler \")"
   ]
  },
  {
   "cell_type": "code",
   "execution_count": 4,
   "metadata": {
    "ExecuteTime": {
     "end_time": "2018-10-19T18:56:39.723487Z",
     "start_time": "2018-10-19T18:56:39.284556Z"
    }
   },
   "outputs": [],
   "source": [
    "import numpy as np\n",
    "from scipy.linalg import norm\n",
    "import matplotlib.pyplot as plt\n",
    "import pandas as pd\n",
    "import scipy.sparse as sparse\n",
    "import unittest\n",
    "import time\n",
    "import sys\n",
    "# import matplotlib.pylab as plt"
   ]
  },
  {
   "cell_type": "code",
   "execution_count": 5,
   "metadata": {
    "ExecuteTime": {
     "end_time": "2018-10-19T18:56:40.961339Z",
     "start_time": "2018-10-19T18:56:39.760994Z"
    }
   },
   "outputs": [],
   "source": [
    "from sklearn.datasets import load_svmlight_file\n",
    "from sklearn.model_selection import train_test_split\n",
    "from sklearn.linear_model import LogisticRegression    #Logistic Regression\n",
    "from sklearn.neighbors import KNeighborsClassifier \n",
    "\n",
    "def get_data(dataname):\n",
    "    data = load_svmlight_file(dataname)\n",
    "    return data[0], data[1]"
   ]
  },
  {
   "cell_type": "markdown",
   "metadata": {},
   "source": [
    "## EXERCISE 1: \n",
    "\n",
    "Use LogisticRegression classifier of Scikit-learn to experimentally confirm the following corollary proven in class and test random sparse projections\n",
    "\n",
    "### Corollary of Range Space Preserving Theorem  \n",
    "\n",
    "Let \n",
    "$$ X = [x_1, \\ldots, x_n]^\\top \\in \\mathbb{R}^{n\\times d},$$\n",
    "be our data matrix and let\n",
    "$$ X X^\\top = [\\hat{x}_1, \\ldots, \\hat{x}_n]^\\top \\in \\mathbb{R}^{n\\times n}. $$\n",
    "We can find a solution to the following training problem\n",
    "$$ w^* \\in \\min_{w \\in \\mathbb{R}^d}  \\frac{1}{n}\\sum_{i=1}^n \\ell_i(\\langle x_i,w \\rangle) \\hspace{3cm} (I)$$\n",
    "by instead solving \n",
    "$$ \\hat{w}^* \\in \\min_{w \\in \\mathbb{R}^n}  \\frac{1}{n}\\sum_{i=1}^n \\ell_i(\\langle \\hat{x}_i,w \\rangle) \\hspace{3cm} (II)$$\n",
    "and recover the solution via $ w^* = X^\\top \\hat{w}^*.$\n",
    "\n",
    "**NOTE:** The matrix $X$ is transposed with respect to the data matrix defined in class and in the lectures ! Be careful with dimnensions!\n",
    "### End Corollary\n",
    "\n",
    "1) Show that by setting the regularization parameter close to zero (C = 10^9) in LogisticRegression, the score obtained by training using $X$ and $X^\\top X$ is the same\n",
    "  \n",
    "2) Compute a solution $w^*_1$  by directly solving (I).  Compare this $w^*_1$ to the recovered solution $X^\\top \\hat{w}^*$. Are they the same? Justify based on Corollary.\n",
    "\n",
    "3) Using a random generated gaussian matrix $W \\in\\mathbb{R}^{d\\times r}$ , project the data matrix $X \\rightarrow XW$. Test for different values of r and\n",
    "apply logistic regression to the resulting projected matrix. Can you explain what you observe? "
   ]
  },
  {
   "cell_type": "markdown",
   "metadata": {
    "ExecuteTime": {
     "end_time": "2018-10-18T08:02:04.556506Z",
     "start_time": "2018-10-18T08:02:04.552532Z"
    }
   },
   "source": [
    "#### 1) Show that by setting the regularization parameter close to zero (C = 10^9) in LogisticRegression, the score obtained by training using $X$ and $X^\\top X$ is the same"
   ]
  },
  {
   "cell_type": "code",
   "execution_count": 6,
   "metadata": {
    "ExecuteTime": {
     "end_time": "2018-10-19T18:08:19.539487Z",
     "start_time": "2018-10-19T18:08:19.442713Z"
    }
   },
   "outputs": [
    {
     "name": "stdout",
     "output_type": "stream",
     "text": [
      "41 data points and 2000 features\n"
     ]
    }
   ],
   "source": [
    "# download the colon-cancer data set from \n",
    "# https://www.csie.ntu.edu.tw/~cjlin/libsvmtools/datasets/binary/colon-cancer.bz2\n",
    "# Unpack and place in the same folder as this python notebook\n",
    "dataname = \"colon-cancer\"  \n",
    "X, y = get_data(dataname)\n",
    "X_train, X_test, y_train, y_test = train_test_split(X, y, test_size=0.33, random_state=42)\n",
    "n, d = X_train.shape\n",
    "print('{n} data points and {d} features'.format(n = n,d =d))"
   ]
  },
  {
   "cell_type": "code",
   "execution_count": 7,
   "metadata": {
    "ExecuteTime": {
     "end_time": "2018-10-19T18:08:19.611718Z",
     "start_time": "2018-10-19T18:08:19.582965Z"
    }
   },
   "outputs": [
    {
     "name": "stdout",
     "output_type": "stream",
     "text": [
      "Accuracy on the training set: 1.000\n",
      "Accuracy on the training set: 0.619\n"
     ]
    }
   ],
   "source": [
    "C0 = 10**9 # 0.0005 # inverse of the regularization parameter, i.e, C = 1/lambda\n",
    "log_reg = LogisticRegression(C = C0, solver='lbfgs') # , multi_class = \"multinomial\"\n",
    "log_reg.fit(X_train, y_train)\n",
    "print('Accuracy on the training set: {:.3f}'.format(log_reg.score(X_train,y_train)))\n",
    "print('Accuracy on the training set: {:.3f}'.format(log_reg.score(X_test,y_test)))"
   ]
  },
  {
   "cell_type": "code",
   "execution_count": 8,
   "metadata": {
    "ExecuteTime": {
     "end_time": "2018-10-19T18:08:19.662830Z",
     "start_time": "2018-10-19T18:08:19.655975Z"
    }
   },
   "outputs": [
    {
     "data": {
      "text/plain": [
       "array([-1.,  1., -1.,  1., -1.,  1., -1.,  1., -1.,  1., -1.,  1., -1.,\n",
       "        1., -1.,  1., -1.,  1., -1.,  1., -1.,  1., -1.,  1., -1., -1.,\n",
       "       -1., -1., -1., -1., -1., -1., -1., -1., -1., -1., -1., -1.,  1.,\n",
       "       -1., -1.,  1.,  1., -1., -1., -1., -1.,  1., -1.,  1.,  1., -1.,\n",
       "       -1.,  1.,  1., -1., -1., -1., -1.,  1., -1.,  1.])"
      ]
     },
     "execution_count": 8,
     "metadata": {},
     "output_type": "execute_result"
    }
   ],
   "source": [
    "y"
   ]
  },
  {
   "cell_type": "code",
   "execution_count": 9,
   "metadata": {
    "ExecuteTime": {
     "end_time": "2018-10-19T18:08:20.351239Z",
     "start_time": "2018-10-19T18:08:20.322822Z"
    }
   },
   "outputs": [
    {
     "name": "stdout",
     "output_type": "stream",
     "text": [
      "Accuracy on the training set: 1.000\n",
      "Accuracy on the training set: 0.619\n"
     ]
    },
    {
     "name": "stderr",
     "output_type": "stream",
     "text": [
      "D:\\Users\\zhufa\\Anaconda3\\lib\\site-packages\\sklearn\\linear_model\\logistic.py:432: FutureWarning: Default solver will be changed to 'lbfgs' in 0.22. Specify a solver to silence this warning.\n",
      "  FutureWarning)\n"
     ]
    }
   ],
   "source": [
    "C0 = 10**9 # 0.0005 # inverse of the regularization parameter, i.e, C = 1/lambda\n",
    "\n",
    "X_train_hat = X_train.dot(X_train.T)\n",
    "X_test_hat = X_test.dot(X_train.T)\n",
    "log_reg_hat = LogisticRegression(C = C0) # , multi_class = \"multinomial\"\n",
    "log_reg_hat.fit(X_train_hat, y_train)\n",
    "\n",
    "print('Accuracy on the training set: {:.3f}'.format(log_reg_hat.score(X_train_hat,y_train)))\n",
    "print('Accuracy on the training set: {:.3f}'.format(log_reg_hat.score(X_test_hat,y_test)))"
   ]
  },
  {
   "cell_type": "markdown",
   "metadata": {
    "ExecuteTime": {
     "end_time": "2018-10-18T07:22:43.668120Z",
     "start_time": "2018-10-18T07:22:43.661105Z"
    }
   },
   "source": [
    "#### 2) Compute a solution w∗1w1∗ by directly solving (I). Compute a solution w∗1w1∗ by directly solving (I). Compare this w∗1w1∗ to the recovered solution X⊤ŵ ∗X⊤w^∗. Are they the same? Justify based on Corollary."
   ]
  },
  {
   "cell_type": "code",
   "execution_count": 10,
   "metadata": {
    "ExecuteTime": {
     "end_time": "2018-10-19T18:08:21.431304Z",
     "start_time": "2018-10-19T18:08:21.425139Z"
    }
   },
   "outputs": [
    {
     "data": {
      "text/plain": [
       "1.6381688361219138"
      ]
     },
     "execution_count": 10,
     "metadata": {},
     "output_type": "execute_result"
    }
   ],
   "source": [
    "w = log_reg.coef_\n",
    "w_hat = log_reg_hat.coef_\n",
    "\n",
    "np.sum(w - w_hat @ X_train)\n"
   ]
  },
  {
   "cell_type": "markdown",
   "metadata": {},
   "source": [
    "They are not same. Because the solution for $I$ is not unique, so the set of solution solved from (II) is a subset of solution of (I)"
   ]
  },
  {
   "cell_type": "markdown",
   "metadata": {
    "ExecuteTime": {
     "end_time": "2018-10-18T08:02:52.447247Z",
     "start_time": "2018-10-18T08:02:52.440265Z"
    }
   },
   "source": [
    "#### 3) Using a random generated gaussian matrix $W \\in\\mathbb{R}^{d\\times r}$ , project the data matrix $X \\rightarrow XW$. Test for  different values of r and apply logistic regression to the resulting projected matrix. Can you explain what you observe? "
   ]
  },
  {
   "cell_type": "code",
   "execution_count": 11,
   "metadata": {
    "ExecuteTime": {
     "end_time": "2018-10-19T18:08:25.936883Z",
     "start_time": "2018-10-19T18:08:25.297589Z"
    }
   },
   "outputs": [
    {
     "name": "stderr",
     "output_type": "stream",
     "text": [
      "D:\\Users\\zhufa\\Anaconda3\\lib\\site-packages\\sklearn\\linear_model\\logistic.py:757: ConvergenceWarning: lbfgs failed to converge. Increase the number of iterations.\n",
      "  \"of iterations.\", ConvergenceWarning)\n"
     ]
    },
    {
     "data": {
      "text/html": [
       "<div>\n",
       "<style scoped>\n",
       "    .dataframe tbody tr th:only-of-type {\n",
       "        vertical-align: middle;\n",
       "    }\n",
       "\n",
       "    .dataframe tbody tr th {\n",
       "        vertical-align: top;\n",
       "    }\n",
       "\n",
       "    .dataframe thead th {\n",
       "        text-align: right;\n",
       "    }\n",
       "</style>\n",
       "<table border=\"1\" class=\"dataframe\">\n",
       "  <thead>\n",
       "    <tr style=\"text-align: right;\">\n",
       "      <th></th>\n",
       "      <th>test score</th>\n",
       "      <th>train score</th>\n",
       "    </tr>\n",
       "  </thead>\n",
       "  <tbody>\n",
       "    <tr>\n",
       "      <th>1</th>\n",
       "      <td>0.571429</td>\n",
       "      <td>0.682927</td>\n",
       "    </tr>\n",
       "    <tr>\n",
       "      <th>2</th>\n",
       "      <td>0.571429</td>\n",
       "      <td>0.682927</td>\n",
       "    </tr>\n",
       "    <tr>\n",
       "      <th>3</th>\n",
       "      <td>0.714286</td>\n",
       "      <td>0.731707</td>\n",
       "    </tr>\n",
       "    <tr>\n",
       "      <th>4</th>\n",
       "      <td>0.666667</td>\n",
       "      <td>0.829268</td>\n",
       "    </tr>\n",
       "    <tr>\n",
       "      <th>5</th>\n",
       "      <td>0.666667</td>\n",
       "      <td>0.853659</td>\n",
       "    </tr>\n",
       "    <tr>\n",
       "      <th>6</th>\n",
       "      <td>0.714286</td>\n",
       "      <td>0.878049</td>\n",
       "    </tr>\n",
       "    <tr>\n",
       "      <th>7</th>\n",
       "      <td>0.666667</td>\n",
       "      <td>0.853659</td>\n",
       "    </tr>\n",
       "    <tr>\n",
       "      <th>8</th>\n",
       "      <td>0.666667</td>\n",
       "      <td>0.829268</td>\n",
       "    </tr>\n",
       "    <tr>\n",
       "      <th>9</th>\n",
       "      <td>0.666667</td>\n",
       "      <td>0.829268</td>\n",
       "    </tr>\n",
       "    <tr>\n",
       "      <th>10</th>\n",
       "      <td>0.619048</td>\n",
       "      <td>0.829268</td>\n",
       "    </tr>\n",
       "    <tr>\n",
       "      <th>11</th>\n",
       "      <td>0.619048</td>\n",
       "      <td>0.829268</td>\n",
       "    </tr>\n",
       "    <tr>\n",
       "      <th>12</th>\n",
       "      <td>0.761905</td>\n",
       "      <td>1.000000</td>\n",
       "    </tr>\n",
       "    <tr>\n",
       "      <th>13</th>\n",
       "      <td>0.714286</td>\n",
       "      <td>1.000000</td>\n",
       "    </tr>\n",
       "    <tr>\n",
       "      <th>14</th>\n",
       "      <td>0.619048</td>\n",
       "      <td>1.000000</td>\n",
       "    </tr>\n",
       "    <tr>\n",
       "      <th>15</th>\n",
       "      <td>0.619048</td>\n",
       "      <td>1.000000</td>\n",
       "    </tr>\n",
       "    <tr>\n",
       "      <th>16</th>\n",
       "      <td>0.666667</td>\n",
       "      <td>1.000000</td>\n",
       "    </tr>\n",
       "    <tr>\n",
       "      <th>17</th>\n",
       "      <td>0.666667</td>\n",
       "      <td>1.000000</td>\n",
       "    </tr>\n",
       "    <tr>\n",
       "      <th>18</th>\n",
       "      <td>0.619048</td>\n",
       "      <td>1.000000</td>\n",
       "    </tr>\n",
       "    <tr>\n",
       "      <th>19</th>\n",
       "      <td>0.619048</td>\n",
       "      <td>1.000000</td>\n",
       "    </tr>\n",
       "    <tr>\n",
       "      <th>20</th>\n",
       "      <td>0.666667</td>\n",
       "      <td>1.000000</td>\n",
       "    </tr>\n",
       "    <tr>\n",
       "      <th>21</th>\n",
       "      <td>0.571429</td>\n",
       "      <td>1.000000</td>\n",
       "    </tr>\n",
       "    <tr>\n",
       "      <th>22</th>\n",
       "      <td>0.619048</td>\n",
       "      <td>1.000000</td>\n",
       "    </tr>\n",
       "    <tr>\n",
       "      <th>23</th>\n",
       "      <td>0.666667</td>\n",
       "      <td>1.000000</td>\n",
       "    </tr>\n",
       "    <tr>\n",
       "      <th>24</th>\n",
       "      <td>0.666667</td>\n",
       "      <td>1.000000</td>\n",
       "    </tr>\n",
       "    <tr>\n",
       "      <th>25</th>\n",
       "      <td>0.666667</td>\n",
       "      <td>1.000000</td>\n",
       "    </tr>\n",
       "    <tr>\n",
       "      <th>26</th>\n",
       "      <td>0.666667</td>\n",
       "      <td>1.000000</td>\n",
       "    </tr>\n",
       "    <tr>\n",
       "      <th>27</th>\n",
       "      <td>0.666667</td>\n",
       "      <td>1.000000</td>\n",
       "    </tr>\n",
       "    <tr>\n",
       "      <th>28</th>\n",
       "      <td>0.666667</td>\n",
       "      <td>1.000000</td>\n",
       "    </tr>\n",
       "    <tr>\n",
       "      <th>29</th>\n",
       "      <td>0.666667</td>\n",
       "      <td>1.000000</td>\n",
       "    </tr>\n",
       "    <tr>\n",
       "      <th>30</th>\n",
       "      <td>0.666667</td>\n",
       "      <td>1.000000</td>\n",
       "    </tr>\n",
       "    <tr>\n",
       "      <th>...</th>\n",
       "      <td>...</td>\n",
       "      <td>...</td>\n",
       "    </tr>\n",
       "    <tr>\n",
       "      <th>51</th>\n",
       "      <td>0.523810</td>\n",
       "      <td>1.000000</td>\n",
       "    </tr>\n",
       "    <tr>\n",
       "      <th>52</th>\n",
       "      <td>0.523810</td>\n",
       "      <td>1.000000</td>\n",
       "    </tr>\n",
       "    <tr>\n",
       "      <th>53</th>\n",
       "      <td>0.523810</td>\n",
       "      <td>1.000000</td>\n",
       "    </tr>\n",
       "    <tr>\n",
       "      <th>54</th>\n",
       "      <td>0.523810</td>\n",
       "      <td>1.000000</td>\n",
       "    </tr>\n",
       "    <tr>\n",
       "      <th>55</th>\n",
       "      <td>0.476190</td>\n",
       "      <td>1.000000</td>\n",
       "    </tr>\n",
       "    <tr>\n",
       "      <th>56</th>\n",
       "      <td>0.523810</td>\n",
       "      <td>1.000000</td>\n",
       "    </tr>\n",
       "    <tr>\n",
       "      <th>57</th>\n",
       "      <td>0.476190</td>\n",
       "      <td>1.000000</td>\n",
       "    </tr>\n",
       "    <tr>\n",
       "      <th>58</th>\n",
       "      <td>0.476190</td>\n",
       "      <td>1.000000</td>\n",
       "    </tr>\n",
       "    <tr>\n",
       "      <th>59</th>\n",
       "      <td>0.476190</td>\n",
       "      <td>1.000000</td>\n",
       "    </tr>\n",
       "    <tr>\n",
       "      <th>60</th>\n",
       "      <td>0.476190</td>\n",
       "      <td>1.000000</td>\n",
       "    </tr>\n",
       "    <tr>\n",
       "      <th>61</th>\n",
       "      <td>0.476190</td>\n",
       "      <td>1.000000</td>\n",
       "    </tr>\n",
       "    <tr>\n",
       "      <th>62</th>\n",
       "      <td>0.523810</td>\n",
       "      <td>1.000000</td>\n",
       "    </tr>\n",
       "    <tr>\n",
       "      <th>63</th>\n",
       "      <td>0.523810</td>\n",
       "      <td>1.000000</td>\n",
       "    </tr>\n",
       "    <tr>\n",
       "      <th>64</th>\n",
       "      <td>0.523810</td>\n",
       "      <td>1.000000</td>\n",
       "    </tr>\n",
       "    <tr>\n",
       "      <th>65</th>\n",
       "      <td>0.523810</td>\n",
       "      <td>1.000000</td>\n",
       "    </tr>\n",
       "    <tr>\n",
       "      <th>66</th>\n",
       "      <td>0.523810</td>\n",
       "      <td>1.000000</td>\n",
       "    </tr>\n",
       "    <tr>\n",
       "      <th>67</th>\n",
       "      <td>0.523810</td>\n",
       "      <td>1.000000</td>\n",
       "    </tr>\n",
       "    <tr>\n",
       "      <th>68</th>\n",
       "      <td>0.523810</td>\n",
       "      <td>1.000000</td>\n",
       "    </tr>\n",
       "    <tr>\n",
       "      <th>69</th>\n",
       "      <td>0.523810</td>\n",
       "      <td>1.000000</td>\n",
       "    </tr>\n",
       "    <tr>\n",
       "      <th>70</th>\n",
       "      <td>0.523810</td>\n",
       "      <td>1.000000</td>\n",
       "    </tr>\n",
       "    <tr>\n",
       "      <th>71</th>\n",
       "      <td>0.523810</td>\n",
       "      <td>1.000000</td>\n",
       "    </tr>\n",
       "    <tr>\n",
       "      <th>72</th>\n",
       "      <td>0.523810</td>\n",
       "      <td>1.000000</td>\n",
       "    </tr>\n",
       "    <tr>\n",
       "      <th>73</th>\n",
       "      <td>0.523810</td>\n",
       "      <td>1.000000</td>\n",
       "    </tr>\n",
       "    <tr>\n",
       "      <th>74</th>\n",
       "      <td>0.523810</td>\n",
       "      <td>1.000000</td>\n",
       "    </tr>\n",
       "    <tr>\n",
       "      <th>75</th>\n",
       "      <td>0.523810</td>\n",
       "      <td>1.000000</td>\n",
       "    </tr>\n",
       "    <tr>\n",
       "      <th>76</th>\n",
       "      <td>0.523810</td>\n",
       "      <td>1.000000</td>\n",
       "    </tr>\n",
       "    <tr>\n",
       "      <th>77</th>\n",
       "      <td>0.523810</td>\n",
       "      <td>1.000000</td>\n",
       "    </tr>\n",
       "    <tr>\n",
       "      <th>78</th>\n",
       "      <td>0.476190</td>\n",
       "      <td>1.000000</td>\n",
       "    </tr>\n",
       "    <tr>\n",
       "      <th>79</th>\n",
       "      <td>0.476190</td>\n",
       "      <td>1.000000</td>\n",
       "    </tr>\n",
       "    <tr>\n",
       "      <th>80</th>\n",
       "      <td>0.476190</td>\n",
       "      <td>1.000000</td>\n",
       "    </tr>\n",
       "  </tbody>\n",
       "</table>\n",
       "<p>80 rows × 2 columns</p>\n",
       "</div>"
      ],
      "text/plain": [
       "    test score  train score\n",
       "1     0.571429     0.682927\n",
       "2     0.571429     0.682927\n",
       "3     0.714286     0.731707\n",
       "4     0.666667     0.829268\n",
       "5     0.666667     0.853659\n",
       "6     0.714286     0.878049\n",
       "7     0.666667     0.853659\n",
       "8     0.666667     0.829268\n",
       "9     0.666667     0.829268\n",
       "10    0.619048     0.829268\n",
       "11    0.619048     0.829268\n",
       "12    0.761905     1.000000\n",
       "13    0.714286     1.000000\n",
       "14    0.619048     1.000000\n",
       "15    0.619048     1.000000\n",
       "16    0.666667     1.000000\n",
       "17    0.666667     1.000000\n",
       "18    0.619048     1.000000\n",
       "19    0.619048     1.000000\n",
       "20    0.666667     1.000000\n",
       "21    0.571429     1.000000\n",
       "22    0.619048     1.000000\n",
       "23    0.666667     1.000000\n",
       "24    0.666667     1.000000\n",
       "25    0.666667     1.000000\n",
       "26    0.666667     1.000000\n",
       "27    0.666667     1.000000\n",
       "28    0.666667     1.000000\n",
       "29    0.666667     1.000000\n",
       "30    0.666667     1.000000\n",
       "..         ...          ...\n",
       "51    0.523810     1.000000\n",
       "52    0.523810     1.000000\n",
       "53    0.523810     1.000000\n",
       "54    0.523810     1.000000\n",
       "55    0.476190     1.000000\n",
       "56    0.523810     1.000000\n",
       "57    0.476190     1.000000\n",
       "58    0.476190     1.000000\n",
       "59    0.476190     1.000000\n",
       "60    0.476190     1.000000\n",
       "61    0.476190     1.000000\n",
       "62    0.523810     1.000000\n",
       "63    0.523810     1.000000\n",
       "64    0.523810     1.000000\n",
       "65    0.523810     1.000000\n",
       "66    0.523810     1.000000\n",
       "67    0.523810     1.000000\n",
       "68    0.523810     1.000000\n",
       "69    0.523810     1.000000\n",
       "70    0.523810     1.000000\n",
       "71    0.523810     1.000000\n",
       "72    0.523810     1.000000\n",
       "73    0.523810     1.000000\n",
       "74    0.523810     1.000000\n",
       "75    0.523810     1.000000\n",
       "76    0.523810     1.000000\n",
       "77    0.523810     1.000000\n",
       "78    0.476190     1.000000\n",
       "79    0.476190     1.000000\n",
       "80    0.476190     1.000000\n",
       "\n",
       "[80 rows x 2 columns]"
      ]
     },
     "execution_count": 11,
     "metadata": {},
     "output_type": "execute_result"
    }
   ],
   "source": [
    "### TODO ### \n",
    "## Choose a range of different projected dimensions to test\n",
    "## project_dimensions = range(???)\n",
    "#############\n",
    "n, d = X.shape\n",
    "project_dimensions = range(80)\n",
    "\n",
    "test_accuracy = []\n",
    "training_accuracy = []\n",
    "data = []\n",
    "s = 20\n",
    "W_ = np.random.random((2000,80))\n",
    "\n",
    "\n",
    "\n",
    "for r in project_dimensions: \n",
    "    W = W_[:,:r+1]\n",
    "    X_train_proj = X_train.dot(W)\n",
    "    X_test_proj = X_test.dot(W)\n",
    "    log_reg_proj = LogisticRegression(C = C0, solver='lbfgs') # , multi_class = \"multinomial\"\n",
    "    log_reg_proj.fit(X_train_proj, y_train)\n",
    "    trainscore =  log_reg_proj.score(X_train_proj,y_train)\n",
    "    training_accuracy.append(trainscore)\n",
    "    testscore = log_reg_proj.score(X_test_proj,y_test)\n",
    "    test_accuracy.append(testscore)\n",
    "    data.append({ \"train score\":trainscore, \"test score\":testscore} )\n",
    "    \n",
    "#     print (\"project dimension %4d gives: (train, test) =  (%.4f, %.4f)\" % (r, trainscore,testscore))\n",
    "#     coef_recover= log_reg_proj.coef.dot(X_train.T) \n",
    "#     print(\"  \", log_reg_proj.coef.dot(X.T).shape)\n",
    "     \n",
    "df= pd.DataFrame(data, index=range(1,81))\n",
    "df"
   ]
  },
  {
   "cell_type": "code",
   "execution_count": 12,
   "metadata": {
    "ExecuteTime": {
     "end_time": "2018-10-19T18:08:26.942047Z",
     "start_time": "2018-10-19T18:08:26.746140Z"
    },
    "scrolled": true
   },
   "outputs": [
    {
     "name": "stdout",
     "output_type": "stream",
     "text": [
      "Best score was for r =   11 with: (train, test) =  (1.0000, 0.7619)\n"
     ]
    },
    {
     "data": {
      "image/png": "[encoded data removed]",
      "text/plain": [
       "<Figure size 432x288 with 1 Axes>"
      ]
     },
     "metadata": {
      "needs_background": "light"
     },
     "output_type": "display_data"
    }
   ],
   "source": [
    "plt.plot(project_dimensions,training_accuracy, label='Accuracy of the training set')\n",
    "plt.plot(project_dimensions,test_accuracy, label='Accuracy of the test set')\n",
    "plt.ylabel('Accuracy')\n",
    "plt.xlabel('Projected Dimension')\n",
    "plt.legend()\n",
    "index_max = np.argmax(test_accuracy)\n",
    "print(\"Best score was for r =%5d with: (train, test) =  (%.4f, %.4f)\"% (project_dimensions[index_max], training_accuracy[index_max],test_accuracy[index_max]))\n"
   ]
  },
  {
   "cell_type": "markdown",
   "metadata": {},
   "source": [
    "3) Gaussian random projection can act like a regularizor and increase the prediction accuracy."
   ]
  },
  {
   "cell_type": "markdown",
   "metadata": {},
   "source": [
    "## Exercise 2:\n",
    "In class we say\n",
    "$$ X \\rightarrow W^TX$$\n",
    "But here it is instead\n",
    "\n",
    "$$ X \\rightarrow WX $$\n",
    "\n",
    "Now we will work with large text based data set. For this you need to code the following random transform $W \\in \\mathbb{R}^{d \\times r}$ that take a sparsity parameter $s$ as an input:\n",
    "\n",
    "$$ W_{ij}  = \\sqrt{\\frac{s}{r}}\n",
    "\\begin{cases}\n",
    "1 \\quad & \\mbox{with probability }\\frac{1}{2s} \\\\\n",
    "0 \\quad & \\mbox{with probability }1-\\frac{1}{s} \\\\\n",
    "-1 \\quad & \\mbox{with probability }\\frac{1}{2s} \n",
    "\\end{cases}$$\n",
    "\n",
    "* Code a function Generate_Sparse_Transform$(s,r,d)$ that takes an input  \n",
    "   * sparsity parameter  $s$\n",
    "   * input dimension $d \\in \\mathbb{N}$\n",
    "   * lower dimensional projected dimension $r \\in \\mathbb{N}$\n",
    "and gives as output a random transform,  stored in an efficient format\n",
    "\n",
    "* Code a function Apply_Sparse_Transform$(R,X)$ that takes an input\n",
    "   * the random transform $W$ as generated by  Generate\\_sparse\\_transform$(s,r,d)$\n",
    "   * a given data matrix $X \\in \\mathbb{R}^{n\\times d}$\n",
    "the output will be $XW$. Note that this looks different then our class notes where we have $W^\\top X.$ The reason for this is that the data is transposed here!\n",
    "\n",
    "\n",
    "*Note* if you have not implemented this efficiently, you will probably run out of memory!  \n",
    "\n",
    "\n",
    "We will test if random projections are able to preserve pairwise distances by applying K-Neighrest Neighbors to projected data.\n",
    "\n",
    "1) Code the above two functions (their stub is provided below)\n",
    "\n",
    "\n",
    "2) Load the data set X. Then fit, transform and score sklearn's KNeighborsClassifier on this data, where \n",
    "$X = $ {anthracyclineTaxaneChemotherapy, sector.scale}. Below you will find how to load this data.\n",
    "\n",
    "3) Repeat the previous step, but first randomly project that data using X -> XW. Repeat this test for different values of the sparsity parameter s and projected dimension parameter r. What can you conclude? \n",
    "\n",
    "*Hint* As a rule of thumb $s = \\sqrt{r}$ often works well, and is a good trade off between sparsity and project dimension size. \n"
   ]
  },
  {
   "cell_type": "code",
   "execution_count": 6,
   "metadata": {
    "ExecuteTime": {
     "end_time": "2018-10-19T18:56:52.701215Z",
     "start_time": "2018-10-19T18:56:52.684075Z"
    }
   },
   "outputs": [],
   "source": [
    "import scipy\n",
    "from sklearn.utils.extmath import safe_sparse_dot   ## <-- I recommend using this function\n",
    "from sklearn.utils.random import sample_without_replacement  ## <-- I recommend using this function\n",
    "import scipy.sparse as sparse\n",
    "\n",
    "\n",
    "def GenerateSparseTransform(s,r,d):\n",
    "    '''\n",
    "    Implement this function. Make sure that W is a sparse matrix.\n",
    "    \n",
    "    Input : \n",
    "        s : sparsity parameter s\n",
    "        r : \n",
    "        d : input dimension\n",
    "    \n",
    "    Returns:\n",
    "        W : a sparse matrix, of size d by r\n",
    "    '''\n",
    "\n",
    "    p = np.sqrt(s/r)\n",
    "    W = sparse.rand(d, r, density=1/s, format='lil')\n",
    "    V = sparse.find(W)\n",
    "    for i,j,v in zip(V[0], V[1], V[2]):\n",
    "        W[i, j] = p if v >0.5 else -p\n",
    "            \n",
    "    return W\n",
    "\n",
    "def GenerateSparseTransform2(s,r,d):\n",
    "    '''\n",
    "    Implement this function. Make sure that W is a sparse matrix.\n",
    "    \n",
    "    Input : \n",
    "        s : sparsity parameter s\n",
    "        r : \n",
    "        d : input dimension\n",
    "    \n",
    "    Returns:\n",
    "        W : a sparse matrix, of size d by r\n",
    "    '''\n",
    "\n",
    "    p = np.sqrt(s/r)\n",
    "    W = sparse.rand(d, r, density=1/s, format='lil')\n",
    "    W[W>0.50] = -1\n",
    "    W[W>0] = -p\n",
    "    W[W == -1] = p\n",
    "    \n",
    "            \n",
    "    return W\n",
    "\n",
    "def GenerateSparseTransform3(s,r,d):\n",
    "    ### TODO ### \n",
    "    ##  Implement this function. Make sure that W is a sparse matrix!\n",
    "    a = [1, 0, -1]\n",
    "    size = (d, r)\n",
    "    p = [1/(2*s), 1-1/s, 1/(2*s)]\n",
    "    W = np.sqrt(s/r) * np.random.choice(a,size,p=p)\n",
    "    W = scipy.sparse.csr_matrix(W)\n",
    "    \n",
    "    #W = scipy.sparse.lil_matrix((d, r))\n",
    "    #n_change = int(r*d/(2*s))\n",
    "    #change1_x = np.random.choice(range(d),n_change)\n",
    "    #change1_y = np.random.choice(range(r),n_change)\n",
    "    #change2_x = np.random.choice(range(d),n_change)\n",
    "    #change2_y = np.random.choice(range(r),n_change)\n",
    "    #W[change1_x, change1_y] = np.sqrt(s/r)\n",
    "    #W[change2_x, change2_y] = -np.sqrt(s/r)\n",
    "    \n",
    "    #############\n",
    "    return W\n",
    "\n",
    "\n",
    "def ApplySparseTransform(W,X_):\n",
    "    '''\n",
    "    Inputs:\n",
    "        W   : Sparse randomly generated matrix of size d by r\n",
    "        X_  : Data matrix to be compressed, of size n by d\n",
    "    \n",
    "    Output:\n",
    "        X_W : A sparse matrix defined by W_ * W\n",
    "        \n",
    "    NOTE: The dimensions of W and X_ are such that the product X_*W is defined \n",
    "    (which is different that what we used in class)\n",
    "    \n",
    "    '''\n",
    "    if(not sparse.issparse(W)):\n",
    "        raise ValueError(\"W has to be a sparse matrix!\"\n",
    "                        )\n",
    "    Xtransformed = safe_sparse_dot(X_, W)\n",
    "    return Xtransformed"
   ]
  },
  {
   "cell_type": "code",
   "execution_count": 7,
   "metadata": {
    "ExecuteTime": {
     "end_time": "2018-10-19T18:57:46.716999Z",
     "start_time": "2018-10-19T18:56:53.358771Z"
    }
   },
   "outputs": [
    {
     "name": "stderr",
     "output_type": "stream",
     "text": [
      "test_ApplySparseTransform (__main__.UtilsTest) ... ok\n",
      "test_GenerateSparseTransform (__main__.UtilsTest) ... "
     ]
    },
    {
     "name": "stdout",
     "output_type": "stream",
     "text": [
      "Wall time: 7.49 s\n",
      "peak memory: 288.19 MiB, increment: 143.08 MiB\n",
      "Size: 56\n"
     ]
    },
    {
     "name": "stderr",
     "output_type": "stream",
     "text": [
      "ok\n",
      "test_GenerateSparseTransform2 (__main__.UtilsTest) ... "
     ]
    },
    {
     "name": "stdout",
     "output_type": "stream",
     "text": [
      "Wall time: 3.5 s\n",
      "peak memory: 288.30 MiB, increment: 141.62 MiB\n",
      "Size: 56\n"
     ]
    },
    {
     "name": "stderr",
     "output_type": "stream",
     "text": [
      "ok\n",
      "test_GenerateSparseTransform3 (__main__.UtilsTest) ... "
     ]
    },
    {
     "name": "stdout",
     "output_type": "stream",
     "text": [
      "Wall time: 257 ms\n",
      "peak memory: 205.89 MiB, increment: 59.12 MiB\n",
      "Size: 56\n"
     ]
    },
    {
     "name": "stderr",
     "output_type": "stream",
     "text": [
      "ok\n",
      "\n",
      "----------------------------------------------------------------------\n",
      "Ran 4 tests in 53.253s\n",
      "\n",
      "OK\n"
     ]
    },
    {
     "data": {
      "text/plain": [
       "<unittest.runner.TextTestResult run=4 errors=0 failures=0>"
      ]
     },
     "execution_count": 7,
     "metadata": {},
     "output_type": "execute_result"
    }
   ],
   "source": [
    "class UtilsTest(unittest.TestCase):\n",
    "    \n",
    "    def test_GenerateSparseTransform(self):\n",
    "        %time GenerateSparseTransform(4,2000,2000)\n",
    "        %memit GenerateSparseTransform(4,2000,2000)\n",
    "        s,r,d = 4,2000,2000\n",
    "        W = GenerateSparseTransform(s,d,r)\n",
    "        A = sparse.find(W)\n",
    "        nb_nonzero = len(A[0])\n",
    "        print('Size:',sys.getsizeof(W))\n",
    "        self.assertAlmostEqual(1-1/s,1 - nb_nonzero/(d*r), 3)\n",
    "        self.assertAlmostEqual(1/(2.*s),np.sum(W>0)/(d*r), 3)\n",
    "        self.assertAlmostEqual(1/(2.*s),np.sum(W<0) /(d*r), 3)\n",
    "        \n",
    "    def test_GenerateSparseTransform2(self):\n",
    "        %time GenerateSparseTransform2(4,2000,2000)\n",
    "        %memit GenerateSparseTransform2(4,2000,2000)\n",
    "        s,r,d = 4,2000,2000\n",
    "        \n",
    "        W = GenerateSparseTransform2(s,d,r)\n",
    "        print('Size:',sys.getsizeof(W))\n",
    "        A = sparse.find(W)\n",
    "        nb_nonzero = len(A[0])\n",
    "        self.assertAlmostEqual(1-1/s,1 - nb_nonzero/(d*r), 3)\n",
    "        self.assertAlmostEqual(1/(2.*s),np.sum(W>0)/(d*r), 3)\n",
    "        self.assertAlmostEqual(1/(2.*s),np.sum(W<0) /(d*r), 3)\n",
    "        \n",
    "        \n",
    "    def test_GenerateSparseTransform3(self):\n",
    "        %time GenerateSparseTransform3(4,2000,2000)\n",
    "        %memit GenerateSparseTransform3(4,2000,2000)\n",
    "        s,r,d = 4,2000,2000\n",
    "        W = GenerateSparseTransform3(s,d,r)\n",
    "        print('Size:',sys.getsizeof(W))\n",
    "        A = sparse.find(W)\n",
    "        nb_nonzero = len(A[0])\n",
    "        self.assertAlmostEqual(1-1/s,1 - nb_nonzero/(d*r), 3)\n",
    "        self.assertAlmostEqual(1/(2.*s),np.sum(W>0)/(d*r), 3)\n",
    "        self.assertAlmostEqual(1/(2.*s),np.sum(W<0) /(d*r), 3)\n",
    "        \n",
    "\n",
    "    def test_ApplySparseTransform(self):\n",
    "        s,r,d = 4,2000,2000\n",
    "        W = GenerateSparseTransform(s,d,r)\n",
    "        X = sparse.rand(d, r, density=np.random.rand(1), format='lil')\n",
    "        XT = ApplySparseTransform(W, X)\n",
    "        sol = X.A.dot(W.A)\n",
    "        \n",
    "        self.assertAlmostEqual(np.sum(sol - XT.A), 0.0, 6)\n",
    "                \n",
    "suite = unittest.TestLoader().loadTestsFromTestCase(UtilsTest)        \n",
    "unittest.TextTestRunner(verbosity=2).run(suite)        "
   ]
  },
  {
   "cell_type": "markdown",
   "metadata": {
    "ExecuteTime": {
     "end_time": "2018-10-19T11:22:42.277582Z",
     "start_time": "2018-10-19T11:22:42.272147Z"
    }
   },
   "source": [
    "你的方法速度最快，占用内存最少， 易木阳的最占内存，但是比我的快。 但是N特别大的时候就不好说了"
   ]
  },
  {
   "cell_type": "code",
   "execution_count": 16,
   "metadata": {
    "ExecuteTime": {
     "end_time": "2018-10-19T13:32:23.035628Z",
     "start_time": "2018-10-19T13:31:06.173107Z"
    }
   },
   "outputs": [
    {
     "name": "stdout",
     "output_type": "stream",
     "text": [
      "Wall time: 25 s\n",
      "peak memory: 569.89 MiB, increment: 415.30 MiB\n",
      "Wall time: 11.4 s\n",
      "peak memory: 570.65 MiB, increment: 415.41 MiB\n",
      "Wall time: 793 ms\n",
      "peak memory: 329.60 MiB, increment: 174.37 MiB\n"
     ]
    }
   ],
   "source": [
    "%time GenerateSparseTransform(4,200,61359)\n",
    "%memit GenerateSparseTransform(4,200,61359)\n",
    "%time GenerateSparseTransform2(4,200, 61359)\n",
    "%memit GenerateSparseTransform2(4,200,61359)\n",
    "%time GenerateSparseTransform3(4,200,61359)\n",
    "%memit GenerateSparseTransform3(4,200,61359)"
   ]
  },
  {
   "cell_type": "markdown",
   "metadata": {},
   "source": [
    "## Load and test easier data set *anthracyclineTaxaneChemotherapy*"
   ]
  },
  {
   "cell_type": "markdown",
   "metadata": {},
   "source": [
    "### if fetch_openml fails  \n",
    "**ALTERNATIVE HACK for loading the data**\n",
    "  \n",
    "* downloard the data from data set in arff format from: https://www.openml.org/d/1085\n",
    " \n",
    "* place data in the same folder as this notebook and run the code in the next cell"
   ]
  },
  {
   "cell_type": "code",
   "execution_count": 8,
   "metadata": {
    "ExecuteTime": {
     "end_time": "2018-10-19T18:57:54.850603Z",
     "start_time": "2018-10-19T18:57:46.757123Z"
    }
   },
   "outputs": [],
   "source": [
    "## ALTERNATIVE HACK for loading anthracyclineTaxaneChemotherapy ## \n",
    "from scipy.io import arff\n",
    "import pandas as pd\n",
    "dataset = arff.loadarff('phpCLGrjq.arff')\n",
    "Xdf = pd.DataFrame(dataset[0])\n",
    "Xy = Xdf.values\n",
    "n_rows, n_cols = Xy.shape\n",
    "X = Xy[:,:-1]\n",
    "X = np.float_(X)\n",
    "y = Xy[:,-1]\n",
    "y = (np.int_(y))*2-3"
   ]
  },
  {
   "cell_type": "code",
   "execution_count": 9,
   "metadata": {
    "ExecuteTime": {
     "end_time": "2018-10-19T19:08:09.926223Z",
     "start_time": "2018-10-19T19:08:09.609073Z"
    }
   },
   "outputs": [
    {
     "name": "stdout",
     "output_type": "stream",
     "text": [
      "127 trainig data points and 61359 features\n"
     ]
    }
   ],
   "source": [
    "# split test and training. Only use 20% of data for testing because data set is small. \n",
    "X_train, X_test, y_train, y_test = train_test_split(X, y, test_size=0.20, random_state=42) \n",
    "n, d = X_train.shape\n",
    "print('{n} trainig data points and {d} features'.format(n = n,d =d))"
   ]
  },
  {
   "cell_type": "code",
   "execution_count": 10,
   "metadata": {
    "ExecuteTime": {
     "end_time": "2018-10-19T19:18:24.684443Z",
     "start_time": "2018-10-19T19:18:21.731109Z"
    }
   },
   "outputs": [
    {
     "name": "stdout",
     "output_type": "stream",
     "text": [
      "project dim 61359 gives: (train, test) =  (0.8425, 0.5625)\n"
     ]
    }
   ],
   "source": [
    "# 2) fit, transform and score the knn Classifier\n",
    "n_neighbors =2 # <-- use this number of neighbours\n",
    "knn = KNeighborsClassifier(n_neighbors=n_neighbors)\n",
    "knn.fit(X_train,y_train)\n",
    "trainscore = knn.score(X_train, y_train)\n",
    "testscore = knn.score(X_test, y_test)\n",
    "# test_accuracy.append(knn.score(X_test, y_test))\n",
    "print (\"project dim %5d gives: (train, test) =  (%.4f, %.4f)\" % (d, trainscore,testscore))"
   ]
  },
  {
   "cell_type": "code",
   "execution_count": 11,
   "metadata": {
    "ExecuteTime": {
     "end_time": "2018-10-19T19:29:25.336414Z",
     "start_time": "2018-10-19T19:28:55.856883Z"
    }
   },
   "outputs": [
    {
     "name": "stdout",
     "output_type": "stream",
     "text": [
      "project dim     1 gives: (train, test) =  (0.8189, 0.5625)\n",
      "project dim    26 gives: (train, test) =  (0.7638, 0.5938)\n",
      "project dim    51 gives: (train, test) =  (0.7953, 0.6875)\n",
      "project dim    76 gives: (train, test) =  (0.7717, 0.5938)\n",
      "project dim   101 gives: (train, test) =  (0.7717, 0.5625)\n",
      "project dim   126 gives: (train, test) =  (0.7638, 0.5938)\n",
      "project dim   151 gives: (train, test) =  (0.7795, 0.6250)\n",
      "project dim   176 gives: (train, test) =  (0.8031, 0.6250)\n",
      "project dim   201 gives: (train, test) =  (0.8661, 0.5938)\n",
      "project dim   226 gives: (train, test) =  (0.8346, 0.6250)\n",
      "project dim   251 gives: (train, test) =  (0.8189, 0.5312)\n",
      "project dim   276 gives: (train, test) =  (0.8425, 0.7188)\n",
      "project dim   301 gives: (train, test) =  (0.8189, 0.5625)\n",
      "project dim   326 gives: (train, test) =  (0.8740, 0.6250)\n",
      "project dim   351 gives: (train, test) =  (0.8268, 0.5625)\n",
      "project dim   376 gives: (train, test) =  (0.8425, 0.5312)\n",
      "project dim   401 gives: (train, test) =  (0.8346, 0.5625)\n",
      "project dim   426 gives: (train, test) =  (0.8425, 0.5312)\n",
      "project dim   451 gives: (train, test) =  (0.8189, 0.6250)\n",
      "project dim   476 gives: (train, test) =  (0.8425, 0.5938)\n",
      "project dim   501 gives: (train, test) =  (0.8425, 0.5938)\n",
      "project dim   526 gives: (train, test) =  (0.8346, 0.5625)\n",
      "project dim   551 gives: (train, test) =  (0.8346, 0.5312)\n",
      "project dim   576 gives: (train, test) =  (0.8268, 0.6250)\n",
      "project dim   601 gives: (train, test) =  (0.8898, 0.5938)\n",
      "project dim   626 gives: (train, test) =  (0.8583, 0.5938)\n"
     ]
    }
   ],
   "source": [
    "test_accuracy = []\n",
    "training_accuracy = []\n",
    "n_neighbors =2  #< -- I recommend 2 neighbors\n",
    "\n",
    "### TODO ### \n",
    "## Choose a range of different projected dimensions to test\n",
    "## project_dimensions = range(???)\n",
    "## HINT: Only test project dimensions  r <= int(min(5*n,d/2))\n",
    "#############\n",
    "\n",
    "knn = KNeighborsClassifier(n_neighbors=n_neighbors)\n",
    "project_dimensions = range(1,int(min(5*n, d/2)), 25)\n",
    "\n",
    "for r in project_dimensions:  \n",
    "    W = GenerateSparseTransform3(np.sqrt(r), r, d)\n",
    "    Xt_train = ApplySparseTransform(W,X_train)\n",
    "    Xt_test =  ApplySparseTransform(W,X_test)\n",
    "    classfier = knn.fit(Xt_train, y_train)\n",
    "    trainscore =  classfier.score(Xt_train, y_train)\n",
    "    training_accuracy.append(trainscore)\n",
    "    testscore = classfier.score(Xt_test, y_test)\n",
    "    test_accuracy.append(testscore)\n",
    "    \n",
    "    print (\"project dim %5d gives: (train, test) =  (%.4f, %.4f)\" % (r, trainscore,testscore))\n"
   ]
  },
  {
   "cell_type": "code",
   "execution_count": 12,
   "metadata": {
    "ExecuteTime": {
     "end_time": "2018-10-19T19:47:31.119818Z",
     "start_time": "2018-10-19T19:47:30.888758Z"
    }
   },
   "outputs": [
    {
     "name": "stdout",
     "output_type": "stream",
     "text": [
      "Best score was for r =  276 with: (train, test) =  (0.8425, 0.7188)\n"
     ]
    },
    {
     "data": {
      "image/png": "[encoded data removed]",
      "text/plain": [
       "<Figure size 432x288 with 1 Axes>"
      ]
     },
     "metadata": {
      "needs_background": "light"
     },
     "output_type": "display_data"
    }
   ],
   "source": [
    "list_proj_dims = list(project_dimensions)\n",
    "plt.plot(list_proj_dims,training_accuracy, label='Accuracy of the training set')\n",
    "plt.plot(list_proj_dims,test_accuracy, label='Accuracy of the test set')\n",
    "plt.hlines(trainscore, 0, r, label=\"Train score\", colors='red')\n",
    "plt.hlines(testscore, 0, r, label=\"Test score\", color='cyan')\n",
    "plt.ylabel('Accuracy')\n",
    "plt.xlabel('Projected Dimension')\n",
    "plt.legend()\n",
    "index_max = np.argmax(test_accuracy)\n",
    "print(\"Best score was for r =%5d with: (train, test) =  (%.4f, %.4f)\"% (list_proj_dims[index_max], training_accuracy[index_max],test_accuracy[index_max]))"
   ]
  },
  {
   "cell_type": "markdown",
   "metadata": {
    "ExecuteTime": {
     "end_time": "2018-10-18T18:54:53.208943Z",
     "start_time": "2018-10-18T18:54:53.204949Z"
    }
   },
   "source": [
    "We can find, the accurancy of the test set is floating around the test score with original data."
   ]
  },
  {
   "cell_type": "markdown",
   "metadata": {},
   "source": [
    "## Load and test HARDER data set *sector.scale*  \n",
    "**(only try this data set after successfully testing the anthracyclineTaxaneChemotherapy data set)**"
   ]
  },
  {
   "cell_type": "code",
   "execution_count": 13,
   "metadata": {
    "ExecuteTime": {
     "end_time": "2018-10-19T19:58:21.305290Z",
     "start_time": "2018-10-19T19:58:20.623405Z"
    }
   },
   "outputs": [
    {
     "name": "stdout",
     "output_type": "stream",
     "text": [
      "6412 data points and 55197 features\n"
     ]
    }
   ],
   "source": [
    "# Download the data set from:\n",
    "# https://www.csie.ntu.edu.tw/~cjlin/libsvmtools/datasets/multiclass/sector/sector.scale.bz2\n",
    "# place data in the same folder as this python notebook\n",
    "dataname = \"sector.scale\"  # \n",
    "X, y = get_data(dataname)\n",
    "n, d = X.shape\n",
    "print('{n} data points and {d} features'.format(n = n,d =d))"
   ]
  },
  {
   "cell_type": "code",
   "execution_count": 14,
   "metadata": {
    "ExecuteTime": {
     "end_time": "2018-10-19T20:09:13.262551Z",
     "start_time": "2018-10-19T20:09:13.230064Z"
    }
   },
   "outputs": [
    {
     "name": "stdout",
     "output_type": "stream",
     "text": [
      "4296 trainig data points and 55197 features\n"
     ]
    }
   ],
   "source": [
    "# split test and training \n",
    "X_train, X_test, y_train, y_test = train_test_split(X, y, test_size=0.33, random_state=42)\n",
    "n, d = X_train.shape\n",
    "print('{n} trainig data points and {d} features'.format(n = n,d =d))"
   ]
  },
  {
   "cell_type": "code",
   "execution_count": 15,
   "metadata": {
    "ExecuteTime": {
     "end_time": "2018-10-19T20:20:18.773283Z",
     "start_time": "2018-10-19T20:20:18.768692Z"
    }
   },
   "outputs": [],
   "source": [
    "### TODO ### \n",
    "## repeat the same experiments for this larger data set\n",
    "## HINT: Only test project dimensions r <= int(min(2*n,d/2))\n",
    "#############"
   ]
  },
  {
   "cell_type": "code",
   "execution_count": 16,
   "metadata": {
    "ExecuteTime": {
     "end_time": "2018-10-19T20:31:22.601436Z",
     "start_time": "2018-10-19T20:31:10.875882Z"
    },
    "scrolled": true
   },
   "outputs": [
    {
     "name": "stdout",
     "output_type": "stream",
     "text": [
      "0.9350 s, project dim     1 gives: (train, test) =  (0.9949, 0.0147)\n",
      "2.2888 s, project dim    26 gives: (train, test) =  (1.0000, 0.3034)\n",
      "3.5647 s, project dim    51 gives: (train, test) =  (1.0000, 0.4617)\n",
      "4.9294 s, project dim    76 gives: (train, test) =  (1.0000, 0.5789)\n"
     ]
    }
   ],
   "source": [
    "test_accuracy = []\n",
    "training_accuracy = []\n",
    "n_neighbors = 1  # <-- I recommend using this\n",
    "knn = KNeighborsClassifier(n_neighbors=n_neighbors)\n",
    "project_dimensions = range(1, 100, 25)\n",
    "\n",
    "for r in project_dimensions:\n",
    "    start_time = time.time()\n",
    "    W = GenerateSparseTransform3(np.sqrt(r), r, d)\n",
    "    Xt_train = ApplySparseTransform(W, X_train)\n",
    "    Xt_test = ApplySparseTransform(W, X_test)\n",
    "    classfier = knn.fit(Xt_train, y_train)\n",
    "    trainscore = classfier.score(Xt_train, y_train)\n",
    "    training_accuracy.append(trainscore)\n",
    "    testscore = classfier.score(Xt_test, y_test)\n",
    "    test_accuracy.append(testscore)\n",
    "    end_time = time.time()\n",
    "    print((\"%.4f s, project dim %5d gives: (train, test) =  (%.4f, %.4f)\" %\n",
    "           (end_time-start_time, r, trainscore, testscore)))"
   ]
  },
  {
   "cell_type": "code",
   "execution_count": 17,
   "metadata": {
    "ExecuteTime": {
     "end_time": "2018-10-19T20:41:56.930523Z",
     "start_time": "2018-10-19T20:41:56.747781Z"
    }
   },
   "outputs": [
    {
     "name": "stdout",
     "output_type": "stream",
     "text": [
      "Best score was for r =   76 with: (train, test) =  (1.0000, 0.5789)\n"
     ]
    },
    {
     "data": {
      "image/png": "[encoded data removed]",
      "text/plain": [
       "<Figure size 432x288 with 1 Axes>"
      ]
     },
     "metadata": {
      "needs_background": "light"
     },
     "output_type": "display_data"
    }
   ],
   "source": [
    "list_proj_dims = list(project_dimensions)\n",
    "plt.plot(list_proj_dims,training_accuracy, label='Accuracy of the training set')\n",
    "plt.plot(list_proj_dims,test_accuracy, label='Accuracy of the test set')\n",
    "plt.ylabel('Accuracy')\n",
    "plt.xlabel('Projected Dimension')\n",
    "plt.legend()\n",
    "index_max = np.argmax(test_accuracy)\n",
    "print(\"Best score was for r =%5d with: (train, test) =  (%.4f, %.4f)\"% (list_proj_dims[index_max], training_accuracy[index_max],test_accuracy[index_max]))"
   ]
  },
  {
   "cell_type": "code",
   "execution_count": null,
   "metadata": {
    "ExecuteTime": {
     "start_time": "2018-10-19T17:24:27.268Z"
    }
   },
   "outputs": [],
   "source": [
    "from ipyparallel import Client\n",
    "rc = Client()\n",
    "v = rc.load_balanced_view()"
   ]
  },
  {
   "cell_type": "code",
   "execution_count": null,
   "metadata": {
    "ExecuteTime": {
     "start_time": "2018-10-19T17:24:27.420Z"
    }
   },
   "outputs": [],
   "source": [
    "def test(r):\n",
    "    W = GenerateSparseTransform(np.sqrt(r), r, d)\n",
    "    Xt_train = ApplySparseTransform(W,X_train)\n",
    "    Xt_test =  ApplySparseTransform(W,X_test)\n",
    "    classfier = knn.fit(Xt_train, y_train)\n",
    "    trainscore =  classfier.score(Xt_train, y_train)\n",
    "    testscore = classfier.score(Xt_test, y_test)\n",
    "    \n",
    "    return (r, trainscore, testscore)\n",
    "\n",
    "ar = v.map(test, range(1,10))\n",
    "    "
   ]
  },
  {
   "cell_type": "code",
   "execution_count": null,
   "metadata": {
    "ExecuteTime": {
     "start_time": "2018-10-19T17:24:27.565Z"
    }
   },
   "outputs": [],
   "source": [
    "ar.progress /len(ar)\n",
    "speedup = ar.serial_time / ar.wall_time\n",
    "speedup"
   ]
  },
  {
   "cell_type": "code",
   "execution_count": null,
   "metadata": {
    "ExecuteTime": {
     "start_time": "2018-10-19T17:24:27.700Z"
    }
   },
   "outputs": [],
   "source": [
    "for i,r in enumerate(ar):\n",
    "    print(r,i)"
   ]
  },
  {
   "cell_type": "markdown",
   "metadata": {},
   "source": [
    "## Bonus question\n",
    "\n",
    "Using the Jonhson-Lindenstrauss Lemma, we can have an estimate for the projected dimension using\n",
    "\n",
    "$$r = \\frac{1}{\\epsilon^2}\\log(n/\\delta) $$\n",
    "\n",
    "1) Write a function for calculating this given suggested project dimension r. \n",
    "\n",
    "2) Test for each of the above data sets with $\\epsilon = 0.05 = \\delta$ and compare to your results. "
   ]
  },
  {
   "cell_type": "code",
   "execution_count": null,
   "metadata": {
    "ExecuteTime": {
     "start_time": "2018-10-19T17:24:27.980Z"
    }
   },
   "outputs": [],
   "source": [
    "def proj_dim(epsilon, sigma, n):\n",
    "    return 1/epsilon**2 *np.log(n/sigma)"
   ]
  },
  {
   "cell_type": "code",
   "execution_count": null,
   "metadata": {},
   "outputs": [],
   "source": []
  },
  {
   "cell_type": "code",
   "execution_count": null,
   "metadata": {},
   "outputs": [],
   "source": []
  },
  {
   "cell_type": "code",
   "execution_count": null,
   "metadata": {},
   "outputs": [],
   "source": []
  },
  {
   "cell_type": "code",
   "execution_count": null,
   "metadata": {},
   "outputs": [],
   "source": []
  },
  {
   "cell_type": "code",
   "execution_count": null,
   "metadata": {},
   "outputs": [],
   "source": []
  },
  {
   "cell_type": "code",
   "execution_count": null,
   "metadata": {},
   "outputs": [],
   "source": []
  }
 ],
 "metadata": {
  "anaconda-cloud": {},
  "kernelspec": {
   "display_name": "Python 3",
   "language": "python",
   "name": "python3"
  },
  "language_info": {
   "codemirror_mode": {
    "name": "ipython",
    "version": 3
   },
   "file_extension": ".py",
   "mimetype": "text/x-python",
   "name": "python",
   "nbconvert_exporter": "python",
   "pygments_lexer": "ipython3",
   "version": "3.7.0"
  },
  "toc": {
   "base_numbering": 1,
   "nav_menu": {},
   "number_sections": true,
   "sideBar": true,
   "skip_h1_title": false,
   "title_cell": "Table of Contents",
   "title_sidebar": "Contents",
   "toc_cell": true,
   "toc_position": {
    "height": "calc(100% - 180px)",
    "left": "10px",
    "top": "150px",
    "width": "384px"
   },
   "toc_section_display": true,
   "toc_window_display": true
  },
  "varInspector": {
   "cols": {
    "lenName": 16,
    "lenType": 16,
    "lenVar": 40
   },
   "kernels_config": {
    "python": {
     "delete_cmd_postfix": "",
     "delete_cmd_prefix": "del ",
     "library": "var_list.py",
     "varRefreshCmd": "print(var_dic_list())"
    },
    "r": {
     "delete_cmd_postfix": ") ",
     "delete_cmd_prefix": "rm(",
     "library": "var_list.r",
     "varRefreshCmd": "cat(var_dic_list()) "
    }
   },
   "oldHeight": 580.391,
   "position": {
    "height": "602.611px",
    "left": "791.972px",
    "right": "20px",
    "top": "74.9861px",
    "width": "573.944px"
   },
   "types_to_exclude": [
    "module",
    "function",
    "builtin_function_or_method",
    "instance",
    "_Feature"
   ],
   "varInspector_section_display": "block",
   "window_display": false
  }
 },
 "nbformat": 4,
 "nbformat_minor": 1
}

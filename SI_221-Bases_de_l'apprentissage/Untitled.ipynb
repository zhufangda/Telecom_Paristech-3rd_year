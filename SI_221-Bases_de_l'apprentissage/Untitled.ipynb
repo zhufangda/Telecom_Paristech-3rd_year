{
 "cells": [
  {
   "cell_type": "markdown",
   "metadata": {
    "toc": true
   },
   "source": [
    "<h1>Table of Contents<span class=\"tocSkip\"></span></h1>\n",
    "<div class=\"toc\"><ul class=\"toc-item\"></ul></div>"
   ]
  },
  {
   "cell_type": "code",
   "execution_count": 3,
   "metadata": {
    "ExecuteTime": {
     "end_time": "2018-10-09T14:09:24.091765Z",
     "start_time": "2018-10-09T14:09:22.418023Z"
    }
   },
   "outputs": [],
   "source": [
    "import matplotlib.pylab as plt"
   ]
  },
  {
   "cell_type": "code",
   "execution_count": 157,
   "metadata": {
    "ExecuteTime": {
     "end_time": "2018-10-09T15:58:35.720812Z",
     "start_time": "2018-10-09T15:58:35.551266Z"
    }
   },
   "outputs": [
    {
     "data": {
      "text/plain": [
       "<matplotlib.collections.PathCollection at 0x269c1520ac8>"
      ]
     },
     "execution_count": 157,
     "metadata": {},
     "output_type": "execute_result"
    },
    {
     "data": {
      "image/png": "[encoded data removed]",
      "text/plain": [
       "<Figure size 432x288 with 1 Axes>"
      ]
     },
     "metadata": {
      "needs_background": "light"
     },
     "output_type": "display_data"
    }
   ],
   "source": [
    "a= np.array([(2.,10.), (2.,5.), (8.,4.), (5.,8.), (7.,5.), (6.,4.), (1.,2.), (4.,9.)])\n",
    "classes = np.zeros(len(a))\n",
    "X,Y = zip(*a)\n",
    "plt.scatter(X,Y)\n",
    "pts = a[[1,3,6],:]\n",
    "x_pts, y_pts = zip(*pts)\n",
    "plt.scatter(x_pts, y_pts, marker='*')"
   ]
  },
  {
   "cell_type": "code",
   "execution_count": 158,
   "metadata": {
    "ExecuteTime": {
     "end_time": "2018-10-09T15:58:37.513045Z",
     "start_time": "2018-10-09T15:58:37.501053Z"
    }
   },
   "outputs": [
    {
     "data": {
      "text/plain": [
       "[array([[2., 5.],\n",
       "        [5., 8.],\n",
       "        [1., 2.]]), array([[4. , 4.5],\n",
       "        [5.2, 7.2],\n",
       "        [1. , 2. ]]), array([[5.33333333, 4.33333333],\n",
       "        [4.5       , 8.        ],\n",
       "        [1.        , 2.        ]]), array([[7.        , 4.33333333],\n",
       "        [3.66666667, 9.        ],\n",
       "        [1.5       , 3.5       ]])]"
      ]
     },
     "execution_count": 158,
     "metadata": {},
     "output_type": "execute_result"
    }
   ],
   "source": [
    "a= np.array([(2.,10.), (2.,5.), (8.,4.), (5.,8.), (7.,5.), (6.,4.), (1.,2.), (4.,9.)])\n",
    "rep = True\n",
    "recoder = list()\n",
    "c_recoder = list()\n",
    "while rep:     \n",
    "    recoder.append(pts.copy())\n",
    "    c1 = np.sum((a - pts[0])**2, axis=1)\n",
    "    c2 = np.sum((a - pts[1])**2, axis=1)\n",
    "    c3 = np.sum((a - pts[2])**2, axis=1)\n",
    "    c = np.argmin([c1,c2,c3], axis=0)\n",
    "    c_recoder.append(c)\n",
    "    old_pts = pts.copy()\n",
    "    pts[0] = a[c==0].mean(axis=0)\n",
    "    pts[1] = a[c==1].mean(axis=0)\n",
    "    pts[2] = a[c==2].mean(axis=0)\n",
    "    rep = np.sum(np.linalg.norm(pts - old_pts)) >= 0.001\n",
    "recoder"
   ]
  },
  {
   "cell_type": "code",
   "execution_count": 165,
   "metadata": {
    "ExecuteTime": {
     "end_time": "2018-10-09T15:59:49.888928Z",
     "start_time": "2018-10-09T15:59:49.483994Z"
    }
   },
   "outputs": [
    {
     "data": {
      "image/png": "[encoded data removed]",
      "text/plain": [
       "<Figure size 432x288 with 4 Axes>"
      ]
     },
     "metadata": {
      "needs_background": "light"
     },
     "output_type": "display_data"
    }
   ],
   "source": [
    "plt.figure()\n",
    "pts_recoder = np.array(recoder)\n",
    "for i in range(len(recoder)):\n",
    "    plt.subplot(2,2,i+1)\n",
    "    plt.scatter(X,Y, c=c_recoder[i], s=50)\n",
    "    plt.scatter(recoder[i][:,0], recoder[i][:,1], marker='*', c='r')"
   ]
  },
  {
   "cell_type": "code",
   "execution_count": null,
   "metadata": {},
   "outputs": [],
   "source": []
  }
 ],
 "metadata": {
  "kernelspec": {
   "display_name": "Python 3",
   "language": "python",
   "name": "python3"
  },
  "language_info": {
   "codemirror_mode": {
    "name": "ipython",
    "version": 3
   },
   "file_extension": ".py",
   "mimetype": "text/x-python",
   "name": "python",
   "nbconvert_exporter": "python",
   "pygments_lexer": "ipython3",
   "version": "3.6.6"
  },
  "latex_envs": {
   "LaTeX_envs_menu_present": true,
   "autoclose": false,
   "autocomplete": true,
   "bibliofile": "biblio.bib",
   "cite_by": "apalike",
   "current_citInitial": 1,
   "eqLabelWithNumbers": true,
   "eqNumInitial": 1,
   "hotkeys": {
    "equation": "Ctrl-E",
    "itemize": "Ctrl-I"
   },
   "labels_anchors": false,
   "latex_user_defs": false,
   "report_style_numbering": false,
   "user_envs_cfg": false
  },
  "toc": {
   "base_numbering": 1,
   "nav_menu": {},
   "number_sections": true,
   "sideBar": true,
   "skip_h1_title": false,
   "title_cell": "Table of Contents",
   "title_sidebar": "Contents",
   "toc_cell": true,
   "toc_position": {},
   "toc_section_display": true,
   "toc_window_display": false
  },
  "varInspector": {
   "cols": {
    "lenName": 16,
    "lenType": 16,
    "lenVar": 40
   },
   "kernels_config": {
    "python": {
     "delete_cmd_postfix": "",
     "delete_cmd_prefix": "del ",
     "library": "var_list.py",
     "varRefreshCmd": "print(var_dic_list())"
    },
    "r": {
     "delete_cmd_postfix": ") ",
     "delete_cmd_prefix": "rm(",
     "library": "var_list.r",
     "varRefreshCmd": "cat(var_dic_list()) "
    }
   },
   "position": {
    "height": "534px",
    "left": "1084px",
    "right": "20px",
    "top": "48px",
    "width": "412px"
   },
   "types_to_exclude": [
    "module",
    "function",
    "builtin_function_or_method",
    "instance",
    "_Feature"
   ],
   "window_display": true
  }
 },
 "nbformat": 4,
 "nbformat_minor": 2
}
